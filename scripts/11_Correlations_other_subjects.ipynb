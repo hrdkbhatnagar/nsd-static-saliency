{
 "cells": [
  {
   "cell_type": "code",
   "execution_count": 1,
   "id": "ee767994-6084-445c-b75a-ae3532a4615a",
   "metadata": {},
   "outputs": [],
   "source": [
    "import numpy as np\n",
    "import torch\n",
    "\n",
    "import matplotlib.pyplot as plt\n",
    "import math \n",
    "\n",
    "import os\n",
    "import sys\n",
    "\n",
    "import pandas as pd\n",
    "\n",
    "import pandas as pd\n",
    "import seaborn as sns\n",
    "import h5py\n",
    "\n",
    "from tqdm import tqdm\n",
    "import pickle\n",
    "%matplotlib inline"
   ]
  },
  {
   "cell_type": "code",
   "execution_count": 2,
   "id": "794b93ff-4b1e-4d23-a13f-e1f8e487f19f",
   "metadata": {},
   "outputs": [],
   "source": [
    "subject = \"2\""
   ]
  },
  {
   "cell_type": "code",
   "execution_count": 4,
   "id": "efaaa827-4c5a-4949-93d5-3fd5c2e441f4",
   "metadata": {},
   "outputs": [],
   "source": [
    "COCO_ROOT = '/gpfs01/bartels/user/hbhatnagar/coco/panoptic_annotations_trainval2017'\n",
    "NSD_ROOT  = \"/gpfs01/bartels/user/hbhatnagar/NSD_dataset/\"\n",
    "STIM_ROOT  = NSD_ROOT + \"nsddata_stimuli/stimuli/nsd/\"\n",
    "\n",
    "stim_file = STIM_ROOT + \"nsd_stimuli.hdf5\"\n",
    "exp_design_file = NSD_ROOT + \"nsddata/experiments/nsd/nsd_expdesign.mat\"\n",
    "nsd_stiminfo_file = '/gpfs01/bartels/user/hbhatnagar/NSD_dataset/nsddata/experiments/nsd/nsd_stim_info_merged.pkl'\n",
    "\n",
    "PRF_PATH = NSD_ROOT+'nsddata/ppdata/' \n",
    "DATA_PATH = \"/gpfs01/bartels/user/hbhatnagar/nsd-static-saliency/data\"\n",
    "BETAS_PATH = NSD_ROOT+f\"/nsddata_betas/ppdata/subj0{subject}/func1pt8mm/betas_fithrf_GLMdenoise_RR/\"\n",
    "BEHAV_PATH = NSD_ROOT + f\"/nsddata/ppdata/subj0{subject}/behav/responses.tsv\"\n",
    "\n",
    "DEVICE = 'cpu'"
   ]
  },
  {
   "cell_type": "code",
   "execution_count": 5,
   "id": "a3ee539d-4f76-4840-be4d-65dcde1072d5",
   "metadata": {},
   "outputs": [],
   "source": [
    "def behav_file_subjectwise(subject):\n",
    "    BEHAV_PATH = NSD_ROOT + f\"/nsddata/ppdata/subj0{subject}/behav/responses.tsv\"\n",
    "    resp_subj = pd.read_csv(BEHAV_PATH, sep ='\\t')\n",
    "\n",
    "    # since it is 1 indexed , reduce the indices by 1 \n",
    "    resp_subj['73KID'] =  resp_subj['73KID'] - 1\n",
    "    resp_subj['10KID'] = resp_subj['10KID'] -  1\n",
    "\n",
    "    return resp_subj"
   ]
  },
  {
   "cell_type": "code",
   "execution_count": 6,
   "id": "556e8fb4-d827-423d-b2fe-cd049aae3dd8",
   "metadata": {},
   "outputs": [],
   "source": [
    "resp_subj2 = behav_file_subjectwise(subject = 2) \n",
    "img_indices_subj2 = resp_subj2['73KID']"
   ]
  },
  {
   "cell_type": "code",
   "execution_count": 16,
   "id": "a4cca959-b1cb-40d6-a217-711ae2a3f645",
   "metadata": {},
   "outputs": [
    {
     "data": {
      "text/html": [
       "<div>\n",
       "<style scoped>\n",
       "    .dataframe tbody tr th:only-of-type {\n",
       "        vertical-align: middle;\n",
       "    }\n",
       "\n",
       "    .dataframe tbody tr th {\n",
       "        vertical-align: top;\n",
       "    }\n",
       "\n",
       "    .dataframe thead th {\n",
       "        text-align: right;\n",
       "    }\n",
       "</style>\n",
       "<table border=\"1\" class=\"dataframe\">\n",
       "  <thead>\n",
       "    <tr style=\"text-align: right;\">\n",
       "      <th></th>\n",
       "      <th>SUBJECT</th>\n",
       "      <th>SESSION</th>\n",
       "      <th>RUN</th>\n",
       "      <th>TRIAL</th>\n",
       "      <th>73KID</th>\n",
       "      <th>10KID</th>\n",
       "      <th>TIME</th>\n",
       "      <th>ISOLD</th>\n",
       "      <th>ISCORRECT</th>\n",
       "      <th>RT</th>\n",
       "      <th>CHANGEMIND</th>\n",
       "      <th>MEMORYRECENT</th>\n",
       "      <th>MEMORYFIRST</th>\n",
       "      <th>ISOLDCURRENT</th>\n",
       "      <th>ISCORRECTCURRENT</th>\n",
       "      <th>TOTAL1</th>\n",
       "      <th>TOTAL2</th>\n",
       "      <th>BUTTON</th>\n",
       "      <th>MISSINGDATA</th>\n",
       "    </tr>\n",
       "  </thead>\n",
       "  <tbody>\n",
       "    <tr>\n",
       "      <th>0</th>\n",
       "      <td>2</td>\n",
       "      <td>1</td>\n",
       "      <td>1</td>\n",
       "      <td>1</td>\n",
       "      <td>46002</td>\n",
       "      <td>625</td>\n",
       "      <td>0.731077</td>\n",
       "      <td>0</td>\n",
       "      <td>1.0</td>\n",
       "      <td>871.814177</td>\n",
       "      <td>0.0</td>\n",
       "      <td>NaN</td>\n",
       "      <td>NaN</td>\n",
       "      <td>0</td>\n",
       "      <td>1.0</td>\n",
       "      <td>1</td>\n",
       "      <td>0</td>\n",
       "      <td>1.0</td>\n",
       "      <td>0</td>\n",
       "    </tr>\n",
       "    <tr>\n",
       "      <th>1</th>\n",
       "      <td>2</td>\n",
       "      <td>1</td>\n",
       "      <td>1</td>\n",
       "      <td>2</td>\n",
       "      <td>42019</td>\n",
       "      <td>5012</td>\n",
       "      <td>0.731123</td>\n",
       "      <td>0</td>\n",
       "      <td>1.0</td>\n",
       "      <td>899.369976</td>\n",
       "      <td>0.0</td>\n",
       "      <td>NaN</td>\n",
       "      <td>NaN</td>\n",
       "      <td>0</td>\n",
       "      <td>1.0</td>\n",
       "      <td>1</td>\n",
       "      <td>0</td>\n",
       "      <td>1.0</td>\n",
       "      <td>0</td>\n",
       "    </tr>\n",
       "    <tr>\n",
       "      <th>2</th>\n",
       "      <td>2</td>\n",
       "      <td>1</td>\n",
       "      <td>1</td>\n",
       "      <td>3</td>\n",
       "      <td>22499</td>\n",
       "      <td>4849</td>\n",
       "      <td>0.731169</td>\n",
       "      <td>0</td>\n",
       "      <td>1.0</td>\n",
       "      <td>534.988883</td>\n",
       "      <td>0.0</td>\n",
       "      <td>NaN</td>\n",
       "      <td>NaN</td>\n",
       "      <td>0</td>\n",
       "      <td>1.0</td>\n",
       "      <td>1</td>\n",
       "      <td>0</td>\n",
       "      <td>1.0</td>\n",
       "      <td>0</td>\n",
       "    </tr>\n",
       "    <tr>\n",
       "      <th>3</th>\n",
       "      <td>2</td>\n",
       "      <td>1</td>\n",
       "      <td>1</td>\n",
       "      <td>4</td>\n",
       "      <td>61982</td>\n",
       "      <td>8822</td>\n",
       "      <td>0.731216</td>\n",
       "      <td>0</td>\n",
       "      <td>1.0</td>\n",
       "      <td>525.075803</td>\n",
       "      <td>0.0</td>\n",
       "      <td>NaN</td>\n",
       "      <td>NaN</td>\n",
       "      <td>0</td>\n",
       "      <td>1.0</td>\n",
       "      <td>1</td>\n",
       "      <td>0</td>\n",
       "      <td>1.0</td>\n",
       "      <td>0</td>\n",
       "    </tr>\n",
       "    <tr>\n",
       "      <th>4</th>\n",
       "      <td>2</td>\n",
       "      <td>1</td>\n",
       "      <td>1</td>\n",
       "      <td>5</td>\n",
       "      <td>48144</td>\n",
       "      <td>9537</td>\n",
       "      <td>0.731262</td>\n",
       "      <td>0</td>\n",
       "      <td>1.0</td>\n",
       "      <td>551.546343</td>\n",
       "      <td>0.0</td>\n",
       "      <td>NaN</td>\n",
       "      <td>NaN</td>\n",
       "      <td>0</td>\n",
       "      <td>1.0</td>\n",
       "      <td>1</td>\n",
       "      <td>0</td>\n",
       "      <td>1.0</td>\n",
       "      <td>0</td>\n",
       "    </tr>\n",
       "    <tr>\n",
       "      <th>...</th>\n",
       "      <td>...</td>\n",
       "      <td>...</td>\n",
       "      <td>...</td>\n",
       "      <td>...</td>\n",
       "      <td>...</td>\n",
       "      <td>...</td>\n",
       "      <td>...</td>\n",
       "      <td>...</td>\n",
       "      <td>...</td>\n",
       "      <td>...</td>\n",
       "      <td>...</td>\n",
       "      <td>...</td>\n",
       "      <td>...</td>\n",
       "      <td>...</td>\n",
       "      <td>...</td>\n",
       "      <td>...</td>\n",
       "      <td>...</td>\n",
       "      <td>...</td>\n",
       "      <td>...</td>\n",
       "    </tr>\n",
       "    <tr>\n",
       "      <th>29995</th>\n",
       "      <td>2</td>\n",
       "      <td>40</td>\n",
       "      <td>12</td>\n",
       "      <td>58</td>\n",
       "      <td>22217</td>\n",
       "      <td>8983</td>\n",
       "      <td>294.717581</td>\n",
       "      <td>1</td>\n",
       "      <td>1.0</td>\n",
       "      <td>922.193575</td>\n",
       "      <td>0.0</td>\n",
       "      <td>20963.0</td>\n",
       "      <td>21540.0</td>\n",
       "      <td>0</td>\n",
       "      <td>0.0</td>\n",
       "      <td>0</td>\n",
       "      <td>1</td>\n",
       "      <td>2.0</td>\n",
       "      <td>0</td>\n",
       "    </tr>\n",
       "    <tr>\n",
       "      <th>29996</th>\n",
       "      <td>2</td>\n",
       "      <td>40</td>\n",
       "      <td>12</td>\n",
       "      <td>59</td>\n",
       "      <td>30293</td>\n",
       "      <td>6025</td>\n",
       "      <td>294.717627</td>\n",
       "      <td>1</td>\n",
       "      <td>1.0</td>\n",
       "      <td>1103.050162</td>\n",
       "      <td>0.0</td>\n",
       "      <td>16.0</td>\n",
       "      <td>17622.0</td>\n",
       "      <td>1</td>\n",
       "      <td>1.0</td>\n",
       "      <td>0</td>\n",
       "      <td>1</td>\n",
       "      <td>2.0</td>\n",
       "      <td>0</td>\n",
       "    </tr>\n",
       "    <tr>\n",
       "      <th>29997</th>\n",
       "      <td>2</td>\n",
       "      <td>40</td>\n",
       "      <td>12</td>\n",
       "      <td>60</td>\n",
       "      <td>61375</td>\n",
       "      <td>4840</td>\n",
       "      <td>294.717673</td>\n",
       "      <td>1</td>\n",
       "      <td>1.0</td>\n",
       "      <td>1078.099882</td>\n",
       "      <td>0.0</td>\n",
       "      <td>9483.0</td>\n",
       "      <td>11912.0</td>\n",
       "      <td>0</td>\n",
       "      <td>0.0</td>\n",
       "      <td>0</td>\n",
       "      <td>1</td>\n",
       "      <td>2.0</td>\n",
       "      <td>0</td>\n",
       "    </tr>\n",
       "    <tr>\n",
       "      <th>29998</th>\n",
       "      <td>2</td>\n",
       "      <td>40</td>\n",
       "      <td>12</td>\n",
       "      <td>61</td>\n",
       "      <td>42647</td>\n",
       "      <td>7322</td>\n",
       "      <td>294.717719</td>\n",
       "      <td>1</td>\n",
       "      <td>1.0</td>\n",
       "      <td>725.315119</td>\n",
       "      <td>0.0</td>\n",
       "      <td>83.0</td>\n",
       "      <td>12162.0</td>\n",
       "      <td>1</td>\n",
       "      <td>1.0</td>\n",
       "      <td>0</td>\n",
       "      <td>1</td>\n",
       "      <td>2.0</td>\n",
       "      <td>0</td>\n",
       "    </tr>\n",
       "    <tr>\n",
       "      <th>29999</th>\n",
       "      <td>2</td>\n",
       "      <td>40</td>\n",
       "      <td>12</td>\n",
       "      <td>62</td>\n",
       "      <td>69767</td>\n",
       "      <td>9971</td>\n",
       "      <td>294.717766</td>\n",
       "      <td>1</td>\n",
       "      <td>1.0</td>\n",
       "      <td>771.353511</td>\n",
       "      <td>0.0</td>\n",
       "      <td>28968.0</td>\n",
       "      <td>29798.0</td>\n",
       "      <td>0</td>\n",
       "      <td>0.0</td>\n",
       "      <td>0</td>\n",
       "      <td>1</td>\n",
       "      <td>2.0</td>\n",
       "      <td>0</td>\n",
       "    </tr>\n",
       "  </tbody>\n",
       "</table>\n",
       "<p>30000 rows × 19 columns</p>\n",
       "</div>"
      ],
      "text/plain": [
       "       SUBJECT  SESSION  RUN  TRIAL  73KID  10KID        TIME  ISOLD  \\\n",
       "0            2        1    1      1  46002    625    0.731077      0   \n",
       "1            2        1    1      2  42019   5012    0.731123      0   \n",
       "2            2        1    1      3  22499   4849    0.731169      0   \n",
       "3            2        1    1      4  61982   8822    0.731216      0   \n",
       "4            2        1    1      5  48144   9537    0.731262      0   \n",
       "...        ...      ...  ...    ...    ...    ...         ...    ...   \n",
       "29995        2       40   12     58  22217   8983  294.717581      1   \n",
       "29996        2       40   12     59  30293   6025  294.717627      1   \n",
       "29997        2       40   12     60  61375   4840  294.717673      1   \n",
       "29998        2       40   12     61  42647   7322  294.717719      1   \n",
       "29999        2       40   12     62  69767   9971  294.717766      1   \n",
       "\n",
       "       ISCORRECT           RT  CHANGEMIND  MEMORYRECENT  MEMORYFIRST  \\\n",
       "0            1.0   871.814177         0.0           NaN          NaN   \n",
       "1            1.0   899.369976         0.0           NaN          NaN   \n",
       "2            1.0   534.988883         0.0           NaN          NaN   \n",
       "3            1.0   525.075803         0.0           NaN          NaN   \n",
       "4            1.0   551.546343         0.0           NaN          NaN   \n",
       "...          ...          ...         ...           ...          ...   \n",
       "29995        1.0   922.193575         0.0       20963.0      21540.0   \n",
       "29996        1.0  1103.050162         0.0          16.0      17622.0   \n",
       "29997        1.0  1078.099882         0.0        9483.0      11912.0   \n",
       "29998        1.0   725.315119         0.0          83.0      12162.0   \n",
       "29999        1.0   771.353511         0.0       28968.0      29798.0   \n",
       "\n",
       "       ISOLDCURRENT  ISCORRECTCURRENT  TOTAL1  TOTAL2  BUTTON  MISSINGDATA  \n",
       "0                 0               1.0       1       0     1.0            0  \n",
       "1                 0               1.0       1       0     1.0            0  \n",
       "2                 0               1.0       1       0     1.0            0  \n",
       "3                 0               1.0       1       0     1.0            0  \n",
       "4                 0               1.0       1       0     1.0            0  \n",
       "...             ...               ...     ...     ...     ...          ...  \n",
       "29995             0               0.0       0       1     2.0            0  \n",
       "29996             1               1.0       0       1     2.0            0  \n",
       "29997             0               0.0       0       1     2.0            0  \n",
       "29998             1               1.0       0       1     2.0            0  \n",
       "29999             0               0.0       0       1     2.0            0  \n",
       "\n",
       "[30000 rows x 19 columns]"
      ]
     },
     "execution_count": 16,
     "metadata": {},
     "output_type": "execute_result"
    }
   ],
   "source": [
    "resp_subj2"
   ]
  },
  {
   "cell_type": "code",
   "execution_count": 10,
   "id": "cefa5ada-8f04-427f-91ed-996b394f4965",
   "metadata": {},
   "outputs": [],
   "source": [
    "grouped = resp_subj2.groupby('73KID')\n",
    "\n",
    "result = [] \n",
    "\n",
    "for img_idx, group in grouped:\n",
    "    indices  = group.index.tolist()\n",
    "    \n",
    "    sessions = group['SESSION'].tolist()\n",
    "    runs = group['RUN'].tolist()\n",
    "    trials = group['TRIAL'].tolist()\n",
    "    \n",
    "    for index, session, run, trial in zip(indices, sessions, runs, trials):\n",
    "        \n",
    "        result.append({\n",
    "            'img_idx': img_idx, \n",
    "            'session': session,\n",
    "            'run': run,\n",
    "            'trial': trial,\n",
    "            'original_idx': index, \n",
    "        })\n",
    "    \n",
    "avg_df_subj2 = pd.DataFrame(result)"
   ]
  },
  {
   "cell_type": "code",
   "execution_count": 11,
   "id": "ab6d731f-3a4a-4d5b-9988-d3f985dd75d3",
   "metadata": {},
   "outputs": [
    {
     "data": {
      "text/html": [
       "<div>\n",
       "<style scoped>\n",
       "    .dataframe tbody tr th:only-of-type {\n",
       "        vertical-align: middle;\n",
       "    }\n",
       "\n",
       "    .dataframe tbody tr th {\n",
       "        vertical-align: top;\n",
       "    }\n",
       "\n",
       "    .dataframe thead th {\n",
       "        text-align: right;\n",
       "    }\n",
       "</style>\n",
       "<table border=\"1\" class=\"dataframe\">\n",
       "  <thead>\n",
       "    <tr style=\"text-align: right;\">\n",
       "      <th></th>\n",
       "      <th>img_idx</th>\n",
       "      <th>session</th>\n",
       "      <th>run</th>\n",
       "      <th>trial</th>\n",
       "      <th>original_idx</th>\n",
       "    </tr>\n",
       "  </thead>\n",
       "  <tbody>\n",
       "    <tr>\n",
       "      <th>0</th>\n",
       "      <td>5</td>\n",
       "      <td>10</td>\n",
       "      <td>5</td>\n",
       "      <td>15</td>\n",
       "      <td>7014</td>\n",
       "    </tr>\n",
       "    <tr>\n",
       "      <th>1</th>\n",
       "      <td>5</td>\n",
       "      <td>10</td>\n",
       "      <td>9</td>\n",
       "      <td>51</td>\n",
       "      <td>7300</td>\n",
       "    </tr>\n",
       "    <tr>\n",
       "      <th>2</th>\n",
       "      <td>5</td>\n",
       "      <td>33</td>\n",
       "      <td>1</td>\n",
       "      <td>26</td>\n",
       "      <td>24025</td>\n",
       "    </tr>\n",
       "    <tr>\n",
       "      <th>3</th>\n",
       "      <td>36</td>\n",
       "      <td>7</td>\n",
       "      <td>11</td>\n",
       "      <td>4</td>\n",
       "      <td>5128</td>\n",
       "    </tr>\n",
       "    <tr>\n",
       "      <th>4</th>\n",
       "      <td>36</td>\n",
       "      <td>25</td>\n",
       "      <td>11</td>\n",
       "      <td>12</td>\n",
       "      <td>18636</td>\n",
       "    </tr>\n",
       "    <tr>\n",
       "      <th>...</th>\n",
       "      <td>...</td>\n",
       "      <td>...</td>\n",
       "      <td>...</td>\n",
       "      <td>...</td>\n",
       "      <td>...</td>\n",
       "    </tr>\n",
       "    <tr>\n",
       "      <th>29995</th>\n",
       "      <td>72963</td>\n",
       "      <td>39</td>\n",
       "      <td>10</td>\n",
       "      <td>39</td>\n",
       "      <td>29101</td>\n",
       "    </tr>\n",
       "    <tr>\n",
       "      <th>29996</th>\n",
       "      <td>72963</td>\n",
       "      <td>39</td>\n",
       "      <td>12</td>\n",
       "      <td>54</td>\n",
       "      <td>29241</td>\n",
       "    </tr>\n",
       "    <tr>\n",
       "      <th>29997</th>\n",
       "      <td>72973</td>\n",
       "      <td>26</td>\n",
       "      <td>2</td>\n",
       "      <td>62</td>\n",
       "      <td>18874</td>\n",
       "    </tr>\n",
       "    <tr>\n",
       "      <th>29998</th>\n",
       "      <td>72973</td>\n",
       "      <td>26</td>\n",
       "      <td>10</td>\n",
       "      <td>36</td>\n",
       "      <td>19348</td>\n",
       "    </tr>\n",
       "    <tr>\n",
       "      <th>29999</th>\n",
       "      <td>72973</td>\n",
       "      <td>37</td>\n",
       "      <td>8</td>\n",
       "      <td>36</td>\n",
       "      <td>27473</td>\n",
       "    </tr>\n",
       "  </tbody>\n",
       "</table>\n",
       "<p>30000 rows × 5 columns</p>\n",
       "</div>"
      ],
      "text/plain": [
       "       img_idx  session  run  trial  original_idx\n",
       "0            5       10    5     15          7014\n",
       "1            5       10    9     51          7300\n",
       "2            5       33    1     26         24025\n",
       "3           36        7   11      4          5128\n",
       "4           36       25   11     12         18636\n",
       "...        ...      ...  ...    ...           ...\n",
       "29995    72963       39   10     39         29101\n",
       "29996    72963       39   12     54         29241\n",
       "29997    72973       26    2     62         18874\n",
       "29998    72973       26   10     36         19348\n",
       "29999    72973       37    8     36         27473\n",
       "\n",
       "[30000 rows x 5 columns]"
      ]
     },
     "execution_count": 11,
     "metadata": {},
     "output_type": "execute_result"
    }
   ],
   "source": [
    "avg_df_subj2"
   ]
  },
  {
   "cell_type": "code",
   "execution_count": 13,
   "id": "80a71148-cee7-40ea-a4e3-25ee813e7735",
   "metadata": {},
   "outputs": [],
   "source": [
    "avg_df_subj2_dict = {}\n",
    "\n",
    "# Iterate through rows of the DataFrame and populate the dictionary\n",
    "for row in avg_df_subj2.itertuples():\n",
    "    img_idx = row.img_idx\n",
    "    original_index = row.original_idx\n",
    "    \n",
    "    # Check if img_idx is already a key in the dictionary\n",
    "    if img_idx in avg_df_subj2_dict:\n",
    "        avg_df_subj2_dict[img_idx].append(original_index)\n",
    "    else:\n",
    "        avg_df_subj2_dict[img_idx] = [original_index]"
   ]
  },
  {
   "cell_type": "code",
   "execution_count": 19,
   "id": "c62a1039-0536-45af-90c3-555bdd74f727",
   "metadata": {},
   "outputs": [
    {
     "name": "stdout",
     "output_type": "stream",
     "text": [
      "{'v1': 6476, 'v2': 6376, 'v3': 6236, 'v4': 2887, 'ofa': 2526, 'ffa1': 1939, 'ffa2': 3054, 'atl': 1594, 'eba': 20106, 'fba2': 6857, 'opa': 8075, 'ppa': 5792, 'rsc': 4631, 'owfa': 3001, 'vwfa_1': 1968, 'vwfa_2': 1182, 'mfs_words': 2630, 'mtl_words': 1810, 'vo1': 1214, 'vo2': 1531, 'phc1': 932, 'phc2': 1224, 'mst': 220, 'hmt': 2262, 'lo2': 1145, 'lo1': 2010, 'v3b': 2032, 'v3a': 3196, 'ips0': 4062, 'ips1': 3309, 'ips2': 2550, 'ips3': 2369, 'ips4': 302, 'ips5': 127, 'spl1': 1212, 'fef': 585}\n"
     ]
    }
   ],
   "source": [
    "with open(DATA_PATH+f'/num_voxel_rois_dict_sub0{subject}.pkl', 'rb') as fp: \n",
    "    num_voxel_rois_dict = pickle.load(fp)\n",
    "    print(num_voxel_rois_dict)"
   ]
  },
  {
   "cell_type": "code",
   "execution_count": 23,
   "id": "8092d0c1-7b01-474d-a0d1-a40a7ee7946d",
   "metadata": {},
   "outputs": [],
   "source": [
    "def gen_avg_betas_subjectwise(roi, subject, resp_sub, img_indices):\n",
    "    \n",
    "    grouped = resp_sub.groupby('73KID')\n",
    "    result = [] \n",
    "\n",
    "    for img_idx, group in grouped:\n",
    "        indices  = group.index.tolist()\n",
    "        sessions = group['SESSION'].tolist()\n",
    "        runs = group['RUN'].tolist()\n",
    "        trials = group['TRIAL'].tolist()\n",
    "\n",
    "        for index, session, run, trial in zip(indices, sessions, runs, trials):\n",
    "            result.append({\n",
    "                'img_idx': img_idx, \n",
    "                'session': session,\n",
    "                'run': run,\n",
    "                'trial': trial,\n",
    "                'original_idx': index, \n",
    "            })\n",
    "\n",
    "    avg_df_subj = pd.DataFrame(result)\n",
    "    avg_df_subj_dict = {}\n",
    "    \n",
    "    # Iterate through rows of the DataFrame and populate the dictionary\n",
    "    for row in avg_df_subj.itertuples():\n",
    "        img_idx = row.img_idx\n",
    "        original_index = row.original_idx\n",
    "\n",
    "        # Check if img_idx is already a key in the dictionary\n",
    "        if img_idx in avg_df_subj_dict:\n",
    "            avg_df_subj_dict[img_idx].append(original_index)\n",
    "        else:\n",
    "            avg_df_subj_dict[img_idx] = [original_index]\n",
    "            \n",
    "    with open(DATA_PATH+f'/num_voxel_rois_dict_sub0{subject}.pkl', 'rb') as fp: \n",
    "        num_voxel_rois_dict = pickle.load(fp)\n",
    "        \n",
    "\n",
    "    betas_full_file_name = f\"betas_full_{roi}_sub{subject}.npy\"\n",
    "    \n",
    "    betas_file = np.load(DATA_PATH+f\"/{betas_full_file_name}\")\n",
    "    betas_file = betas_file[1:,:] # remove the first dummy row \n",
    "    \n",
    "    num_voxels = num_voxel_rois_dict[roi]                             \n",
    "    beta_avg = [] \n",
    "    \n",
    "    # orig_idx = [] \n",
    "    \n",
    "    imgs_done = {}\n",
    "    \n",
    "    for idx, img_idx in enumerate(tqdm(img_indices)):\n",
    "        \n",
    "        # if the image has already been averaged, skip it \n",
    "        if img_idx in imgs_done:\n",
    "            continue\n",
    "        \n",
    "        list_of_indices = avg_df_subj_dict[img_idx]\n",
    "        # filter out of bound indices \n",
    "        valid_indices = [i for i in list_of_indices if i < betas_file.shape[0]]\n",
    "        group_average = np.mean(betas_file[valid_indices], axis = 0) \n",
    "\n",
    "        beta_avg.append(group_average)\n",
    "        # orig_idx.append(img_idx) \n",
    "        \n",
    "        imgs_done[img_idx] = img_idx # add to a dict that can then skip the averaging again \n",
    "    \n",
    "    return np.array(beta_avg)"
   ]
  },
  {
   "cell_type": "code",
   "execution_count": 24,
   "id": "85168d44-07c2-4da7-aaa0-1deb73c87541",
   "metadata": {},
   "outputs": [],
   "source": [
    "def save_averaged_betas_all_roi_subj(subject, roi_list, resp_sub, img_indices, path):\n",
    "    for roi in roi_list: \n",
    "        print(f\"Averaging for {roi}\")\n",
    "        try: \n",
    "            avg_betas = gen_avg_betas_subjectwise(roi, subject, resp_sub, img_indices)\n",
    "            file_name = f\"betas_full_avg_{roi}_sub{subject}.npy\"\n",
    "            np.save(path+file_name, avg_betas)\n",
    "            print(f\"Successfully saved {roi} betas to disk\")\n",
    "            \n",
    "        except: \n",
    "            print(f\"Betas for {roi} not found for subject 0{subject}, skipping.\")\n",
    "            continue"
   ]
  },
  {
   "cell_type": "code",
   "execution_count": 22,
   "id": "f270e479-ac7b-4836-ae04-ed8bbbd9b791",
   "metadata": {},
   "outputs": [
    {
     "name": "stdout",
     "output_type": "stream",
     "text": [
      "{'v1': 6476, 'v2': 6376, 'v3': 6236, 'v4': 2887, 'ofa': 2526, 'ffa1': 1939, 'ffa2': 3054, 'atl': 1594, 'eba': 20106, 'fba2': 6857, 'opa': 8075, 'ppa': 5792, 'rsc': 4631, 'owfa': 3001, 'vwfa_1': 1968, 'vwfa_2': 1182, 'mfs_words': 2630, 'mtl_words': 1810, 'vo1': 1214, 'vo2': 1531, 'phc1': 932, 'phc2': 1224, 'mst': 220, 'hmt': 2262, 'lo2': 1145, 'lo1': 2010, 'v3b': 2032, 'v3a': 3196, 'ips0': 4062, 'ips1': 3309, 'ips2': 2550, 'ips3': 2369, 'ips4': 302, 'ips5': 127, 'spl1': 1212, 'fef': 585}\n"
     ]
    }
   ],
   "source": [
    "gen_avg_betas_subjectwise(roi = 'v1', subject = 2, resp_sub = resp_subj2, img_indices = img_indices_subj2)"
   ]
  },
  {
   "cell_type": "code",
   "execution_count": 25,
   "id": "27e433b4-f813-4fc9-9424-d49ca6ee52f9",
   "metadata": {},
   "outputs": [],
   "source": [
    "roi_list = [\"v1\",\"v2\",\"v3\",\"v4\",\n",
    "            \"ofa\",\"ffa1\", \"ffa2\", \"atl\",\n",
    "            \"eba\",\"fba1\", \"fba2\",\n",
    "            \"opa\", \"ppa\", \"rsc\",\n",
    "            \"owfa\", \"vwfa_1\", \"vwfa_2\", \"mfs_words\", \"mtl_words\",\n",
    "\n",
    "            \"vo1\",\"vo2\",\"phc1\",\"phc2\",\"mst\",\"hmt\",\"lo2\",\"lo1\",\n",
    "            \"v3b\",\"v3a\",\"ips0\",\"ips1\",\"ips2\",\"ips3\",\"ips4\",\n",
    "            \"ips5\",\"spl1\",\"fef\"]\n",
    "\n",
    "averaged_beta_files_path = f\"{DATA_PATH}/averaged_beta_files/\""
   ]
  },
  {
   "cell_type": "code",
   "execution_count": 26,
   "id": "5d20020f-421d-4608-be40-bcd8dba7d4b5",
   "metadata": {},
   "outputs": [
    {
     "name": "stdout",
     "output_type": "stream",
     "text": [
      "Averaging for v1\n"
     ]
    },
    {
     "name": "stderr",
     "output_type": "stream",
     "text": [
      " 70%|██████▉   | 20906/30000 [00:00<00:00, 42266.41it/s]/gpfs01/bartels/user/hbhatnagar/anaconda3/envs/NSD-Saliency/lib/python3.8/site-packages/numpy/core/fromnumeric.py:3432: RuntimeWarning: Mean of empty slice.\n",
      "  return _methods._mean(a, axis=axis, dtype=dtype,\n",
      "/gpfs01/bartels/user/hbhatnagar/anaconda3/envs/NSD-Saliency/lib/python3.8/site-packages/numpy/core/_methods.py:182: RuntimeWarning: invalid value encountered in divide\n",
      "  ret = um.true_divide(\n",
      "100%|██████████| 30000/30000 [00:00<00:00, 41912.79it/s]\n"
     ]
    },
    {
     "name": "stdout",
     "output_type": "stream",
     "text": [
      "Successfully saved v1 betas to disk\n",
      "Averaging for v2\n"
     ]
    },
    {
     "name": "stderr",
     "output_type": "stream",
     "text": [
      " 82%|████████▏ | 24563/30000 [00:00<00:00, 58802.38it/s]/gpfs01/bartels/user/hbhatnagar/anaconda3/envs/NSD-Saliency/lib/python3.8/site-packages/numpy/core/fromnumeric.py:3432: RuntimeWarning: Mean of empty slice.\n",
      "  return _methods._mean(a, axis=axis, dtype=dtype,\n",
      "/gpfs01/bartels/user/hbhatnagar/anaconda3/envs/NSD-Saliency/lib/python3.8/site-packages/numpy/core/_methods.py:182: RuntimeWarning: invalid value encountered in divide\n",
      "  ret = um.true_divide(\n",
      "100%|██████████| 30000/30000 [00:00<00:00, 56546.57it/s]\n"
     ]
    },
    {
     "name": "stdout",
     "output_type": "stream",
     "text": [
      "Successfully saved v2 betas to disk\n",
      "Averaging for v3\n"
     ]
    },
    {
     "name": "stderr",
     "output_type": "stream",
     "text": [
      " 67%|██████▋   | 20228/30000 [00:00<00:00, 57860.24it/s]/gpfs01/bartels/user/hbhatnagar/anaconda3/envs/NSD-Saliency/lib/python3.8/site-packages/numpy/core/fromnumeric.py:3432: RuntimeWarning: Mean of empty slice.\n",
      "  return _methods._mean(a, axis=axis, dtype=dtype,\n",
      "/gpfs01/bartels/user/hbhatnagar/anaconda3/envs/NSD-Saliency/lib/python3.8/site-packages/numpy/core/_methods.py:182: RuntimeWarning: invalid value encountered in divide\n",
      "  ret = um.true_divide(\n",
      "100%|██████████| 30000/30000 [00:00<00:00, 66066.25it/s]\n"
     ]
    },
    {
     "name": "stdout",
     "output_type": "stream",
     "text": [
      "Betas for v3 not found for subject 02, skipping.\n",
      "Averaging for v4\n"
     ]
    },
    {
     "name": "stderr",
     "output_type": "stream",
     "text": [
      " 88%|████████▊ | 26470/30000 [00:00<00:00, 99448.47it/s]/gpfs01/bartels/user/hbhatnagar/anaconda3/envs/NSD-Saliency/lib/python3.8/site-packages/numpy/core/fromnumeric.py:3432: RuntimeWarning: Mean of empty slice.\n",
      "  return _methods._mean(a, axis=axis, dtype=dtype,\n",
      "/gpfs01/bartels/user/hbhatnagar/anaconda3/envs/NSD-Saliency/lib/python3.8/site-packages/numpy/core/_methods.py:182: RuntimeWarning: invalid value encountered in divide\n",
      "  ret = um.true_divide(\n",
      "100%|██████████| 30000/30000 [00:00<00:00, 96960.42it/s]\n"
     ]
    },
    {
     "name": "stdout",
     "output_type": "stream",
     "text": [
      "Successfully saved v4 betas to disk\n",
      "Averaging for ofa\n"
     ]
    },
    {
     "name": "stderr",
     "output_type": "stream",
     "text": [
      " 55%|█████▍    | 16498/30000 [00:00<00:00, 85740.47it/s]/gpfs01/bartels/user/hbhatnagar/anaconda3/envs/NSD-Saliency/lib/python3.8/site-packages/numpy/core/fromnumeric.py:3432: RuntimeWarning: Mean of empty slice.\n",
      "  return _methods._mean(a, axis=axis, dtype=dtype,\n",
      "/gpfs01/bartels/user/hbhatnagar/anaconda3/envs/NSD-Saliency/lib/python3.8/site-packages/numpy/core/_methods.py:182: RuntimeWarning: invalid value encountered in divide\n",
      "  ret = um.true_divide(\n",
      "100%|██████████| 30000/30000 [00:00<00:00, 116463.58it/s]\n"
     ]
    },
    {
     "name": "stdout",
     "output_type": "stream",
     "text": [
      "Successfully saved ofa betas to disk\n",
      "Averaging for ffa1\n"
     ]
    },
    {
     "name": "stderr",
     "output_type": "stream",
     "text": [
      " 38%|███▊      | 11431/30000 [00:00<00:00, 81546.34it/s]\n"
     ]
    },
    {
     "name": "stdout",
     "output_type": "stream",
     "text": [
      "Betas for ffa1 not found for subject 02, skipping.\n",
      "Averaging for ffa2\n"
     ]
    },
    {
     "name": "stderr",
     "output_type": "stream",
     "text": [
      " 76%|███████▌  | 22781/30000 [00:00<00:00, 83742.14it/s]/gpfs01/bartels/user/hbhatnagar/anaconda3/envs/NSD-Saliency/lib/python3.8/site-packages/numpy/core/fromnumeric.py:3432: RuntimeWarning: Mean of empty slice.\n",
      "  return _methods._mean(a, axis=axis, dtype=dtype,\n",
      "/gpfs01/bartels/user/hbhatnagar/anaconda3/envs/NSD-Saliency/lib/python3.8/site-packages/numpy/core/_methods.py:182: RuntimeWarning: invalid value encountered in divide\n",
      "  ret = um.true_divide(\n",
      "100%|██████████| 30000/30000 [00:00<00:00, 91858.88it/s]\n"
     ]
    },
    {
     "name": "stdout",
     "output_type": "stream",
     "text": [
      "Successfully saved ffa2 betas to disk\n",
      "Averaging for atl\n"
     ]
    },
    {
     "name": "stderr",
     "output_type": "stream",
     "text": [
      " 67%|██████▋   | 19997/30000 [00:00<00:00, 105011.87it/s]/gpfs01/bartels/user/hbhatnagar/anaconda3/envs/NSD-Saliency/lib/python3.8/site-packages/numpy/core/fromnumeric.py:3432: RuntimeWarning: Mean of empty slice.\n",
      "  return _methods._mean(a, axis=axis, dtype=dtype,\n",
      "/gpfs01/bartels/user/hbhatnagar/anaconda3/envs/NSD-Saliency/lib/python3.8/site-packages/numpy/core/_methods.py:182: RuntimeWarning: invalid value encountered in divide\n",
      "  ret = um.true_divide(\n",
      "100%|██████████| 30000/30000 [00:00<00:00, 128101.38it/s]\n"
     ]
    },
    {
     "name": "stdout",
     "output_type": "stream",
     "text": [
      "Successfully saved atl betas to disk\n",
      "Averaging for eba\n",
      "Betas for eba not found for subject 02, skipping.\n",
      "Averaging for fba1\n",
      "Betas for fba1 not found for subject 02, skipping.\n",
      "Averaging for fba2\n"
     ]
    },
    {
     "name": "stderr",
     "output_type": "stream",
     "text": [
      " 76%|███████▋  | 22929/30000 [00:00<00:00, 55843.26it/s]/gpfs01/bartels/user/hbhatnagar/anaconda3/envs/NSD-Saliency/lib/python3.8/site-packages/numpy/core/fromnumeric.py:3432: RuntimeWarning: Mean of empty slice.\n",
      "  return _methods._mean(a, axis=axis, dtype=dtype,\n",
      "/gpfs01/bartels/user/hbhatnagar/anaconda3/envs/NSD-Saliency/lib/python3.8/site-packages/numpy/core/_methods.py:182: RuntimeWarning: invalid value encountered in divide\n",
      "  ret = um.true_divide(\n",
      "100%|██████████| 30000/30000 [00:00<00:00, 54228.67it/s]\n"
     ]
    },
    {
     "name": "stdout",
     "output_type": "stream",
     "text": [
      "Successfully saved fba2 betas to disk\n",
      "Averaging for opa\n"
     ]
    },
    {
     "name": "stderr",
     "output_type": "stream",
     "text": [
      " 76%|███████▌  | 22698/30000 [00:00<00:00, 43590.95it/s]/gpfs01/bartels/user/hbhatnagar/anaconda3/envs/NSD-Saliency/lib/python3.8/site-packages/numpy/core/fromnumeric.py:3432: RuntimeWarning: Mean of empty slice.\n",
      "  return _methods._mean(a, axis=axis, dtype=dtype,\n",
      "/gpfs01/bartels/user/hbhatnagar/anaconda3/envs/NSD-Saliency/lib/python3.8/site-packages/numpy/core/_methods.py:182: RuntimeWarning: invalid value encountered in divide\n",
      "  ret = um.true_divide(\n",
      "100%|██████████| 30000/30000 [00:00<00:00, 45372.11it/s]\n"
     ]
    },
    {
     "name": "stdout",
     "output_type": "stream",
     "text": [
      "Successfully saved opa betas to disk\n",
      "Averaging for ppa\n"
     ]
    },
    {
     "name": "stderr",
     "output_type": "stream",
     "text": [
      " 90%|████████▉ | 26914/30000 [00:00<00:00, 79974.06it/s]/gpfs01/bartels/user/hbhatnagar/anaconda3/envs/NSD-Saliency/lib/python3.8/site-packages/numpy/core/fromnumeric.py:3432: RuntimeWarning: Mean of empty slice.\n",
      "  return _methods._mean(a, axis=axis, dtype=dtype,\n",
      "/gpfs01/bartels/user/hbhatnagar/anaconda3/envs/NSD-Saliency/lib/python3.8/site-packages/numpy/core/_methods.py:182: RuntimeWarning: invalid value encountered in divide\n",
      "  ret = um.true_divide(\n",
      "100%|██████████| 30000/30000 [00:00<00:00, 73253.01it/s]\n"
     ]
    },
    {
     "name": "stdout",
     "output_type": "stream",
     "text": [
      "Successfully saved ppa betas to disk\n",
      "Averaging for rsc\n"
     ]
    },
    {
     "name": "stderr",
     "output_type": "stream",
     "text": [
      " 92%|█████████▏| 27558/30000 [00:00<00:00, 82707.33it/s]/gpfs01/bartels/user/hbhatnagar/anaconda3/envs/NSD-Saliency/lib/python3.8/site-packages/numpy/core/fromnumeric.py:3432: RuntimeWarning: Mean of empty slice.\n",
      "  return _methods._mean(a, axis=axis, dtype=dtype,\n",
      "/gpfs01/bartels/user/hbhatnagar/anaconda3/envs/NSD-Saliency/lib/python3.8/site-packages/numpy/core/_methods.py:182: RuntimeWarning: invalid value encountered in divide\n",
      "  ret = um.true_divide(\n",
      "100%|██████████| 30000/30000 [00:00<00:00, 73727.21it/s]\n"
     ]
    },
    {
     "name": "stdout",
     "output_type": "stream",
     "text": [
      "Successfully saved rsc betas to disk\n",
      "Averaging for owfa\n"
     ]
    },
    {
     "name": "stderr",
     "output_type": "stream",
     "text": [
      " 63%|██████▎   | 18811/30000 [00:00<00:00, 66594.64it/s]/gpfs01/bartels/user/hbhatnagar/anaconda3/envs/NSD-Saliency/lib/python3.8/site-packages/numpy/core/fromnumeric.py:3432: RuntimeWarning: Mean of empty slice.\n",
      "  return _methods._mean(a, axis=axis, dtype=dtype,\n",
      "/gpfs01/bartels/user/hbhatnagar/anaconda3/envs/NSD-Saliency/lib/python3.8/site-packages/numpy/core/_methods.py:182: RuntimeWarning: invalid value encountered in divide\n",
      "  ret = um.true_divide(\n",
      "100%|██████████| 30000/30000 [00:00<00:00, 84293.10it/s]\n"
     ]
    },
    {
     "name": "stdout",
     "output_type": "stream",
     "text": [
      "Successfully saved owfa betas to disk\n",
      "Averaging for vwfa_1\n"
     ]
    },
    {
     "name": "stderr",
     "output_type": "stream",
     "text": [
      " 58%|█████▊    | 17438/30000 [00:00<00:00, 90959.15it/s]/gpfs01/bartels/user/hbhatnagar/anaconda3/envs/NSD-Saliency/lib/python3.8/site-packages/numpy/core/fromnumeric.py:3432: RuntimeWarning: Mean of empty slice.\n",
      "  return _methods._mean(a, axis=axis, dtype=dtype,\n",
      "/gpfs01/bartels/user/hbhatnagar/anaconda3/envs/NSD-Saliency/lib/python3.8/site-packages/numpy/core/_methods.py:182: RuntimeWarning: invalid value encountered in divide\n",
      "  ret = um.true_divide(\n",
      "100%|██████████| 30000/30000 [00:00<00:00, 120798.58it/s]\n"
     ]
    },
    {
     "name": "stdout",
     "output_type": "stream",
     "text": [
      "Successfully saved vwfa_1 betas to disk\n",
      "Averaging for vwfa_2\n"
     ]
    },
    {
     "name": "stderr",
     "output_type": "stream",
     "text": [
      " 65%|██████▌   | 19599/30000 [00:00<00:00, 102569.71it/s]/gpfs01/bartels/user/hbhatnagar/anaconda3/envs/NSD-Saliency/lib/python3.8/site-packages/numpy/core/fromnumeric.py:3432: RuntimeWarning: Mean of empty slice.\n",
      "  return _methods._mean(a, axis=axis, dtype=dtype,\n",
      "/gpfs01/bartels/user/hbhatnagar/anaconda3/envs/NSD-Saliency/lib/python3.8/site-packages/numpy/core/_methods.py:182: RuntimeWarning: invalid value encountered in divide\n",
      "  ret = um.true_divide(\n",
      "100%|██████████| 30000/30000 [00:00<00:00, 127967.59it/s]\n"
     ]
    },
    {
     "name": "stdout",
     "output_type": "stream",
     "text": [
      "Successfully saved vwfa_2 betas to disk\n",
      "Averaging for mfs_words\n"
     ]
    },
    {
     "name": "stderr",
     "output_type": "stream",
     "text": [
      " 53%|█████▎    | 15903/30000 [00:00<00:00, 82518.40it/s]/gpfs01/bartels/user/hbhatnagar/anaconda3/envs/NSD-Saliency/lib/python3.8/site-packages/numpy/core/fromnumeric.py:3432: RuntimeWarning: Mean of empty slice.\n",
      "  return _methods._mean(a, axis=axis, dtype=dtype,\n",
      "/gpfs01/bartels/user/hbhatnagar/anaconda3/envs/NSD-Saliency/lib/python3.8/site-packages/numpy/core/_methods.py:182: RuntimeWarning: invalid value encountered in divide\n",
      "  ret = um.true_divide(\n",
      "100%|██████████| 30000/30000 [00:00<00:00, 113655.28it/s]\n"
     ]
    },
    {
     "name": "stdout",
     "output_type": "stream",
     "text": [
      "Successfully saved mfs_words betas to disk\n",
      "Averaging for mtl_words\n"
     ]
    },
    {
     "name": "stderr",
     "output_type": "stream",
     "text": [
      " 65%|██████▌   | 19560/30000 [00:00<00:00, 102341.45it/s]/gpfs01/bartels/user/hbhatnagar/anaconda3/envs/NSD-Saliency/lib/python3.8/site-packages/numpy/core/fromnumeric.py:3432: RuntimeWarning: Mean of empty slice.\n",
      "  return _methods._mean(a, axis=axis, dtype=dtype,\n",
      "/gpfs01/bartels/user/hbhatnagar/anaconda3/envs/NSD-Saliency/lib/python3.8/site-packages/numpy/core/_methods.py:182: RuntimeWarning: invalid value encountered in divide\n",
      "  ret = um.true_divide(\n",
      "100%|██████████| 30000/30000 [00:00<00:00, 128303.98it/s]\n"
     ]
    },
    {
     "name": "stdout",
     "output_type": "stream",
     "text": [
      "Successfully saved mtl_words betas to disk\n",
      "Averaging for vo1\n"
     ]
    },
    {
     "name": "stderr",
     "output_type": "stream",
     "text": [
      " 72%|███████▏  | 21663/30000 [00:00<00:00, 114159.74it/s]/gpfs01/bartels/user/hbhatnagar/anaconda3/envs/NSD-Saliency/lib/python3.8/site-packages/numpy/core/fromnumeric.py:3432: RuntimeWarning: Mean of empty slice.\n",
      "  return _methods._mean(a, axis=axis, dtype=dtype,\n",
      "/gpfs01/bartels/user/hbhatnagar/anaconda3/envs/NSD-Saliency/lib/python3.8/site-packages/numpy/core/_methods.py:182: RuntimeWarning: invalid value encountered in divide\n",
      "  ret = um.true_divide(\n",
      "100%|██████████| 30000/30000 [00:00<00:00, 133835.57it/s]\n"
     ]
    },
    {
     "name": "stdout",
     "output_type": "stream",
     "text": [
      "Successfully saved vo1 betas to disk\n",
      "Averaging for vo2\n"
     ]
    },
    {
     "name": "stderr",
     "output_type": "stream",
     "text": [
      " 73%|███████▎  | 21996/30000 [00:00<00:00, 116307.09it/s]/gpfs01/bartels/user/hbhatnagar/anaconda3/envs/NSD-Saliency/lib/python3.8/site-packages/numpy/core/fromnumeric.py:3432: RuntimeWarning: Mean of empty slice.\n",
      "  return _methods._mean(a, axis=axis, dtype=dtype,\n",
      "/gpfs01/bartels/user/hbhatnagar/anaconda3/envs/NSD-Saliency/lib/python3.8/site-packages/numpy/core/_methods.py:182: RuntimeWarning: invalid value encountered in divide\n",
      "  ret = um.true_divide(\n",
      "100%|██████████| 30000/30000 [00:00<00:00, 135376.70it/s]\n"
     ]
    },
    {
     "name": "stdout",
     "output_type": "stream",
     "text": [
      "Successfully saved vo2 betas to disk\n",
      "Averaging for phc1\n"
     ]
    },
    {
     "name": "stderr",
     "output_type": "stream",
     "text": [
      " 75%|███████▍  | 22386/30000 [00:00<00:00, 118121.73it/s]/gpfs01/bartels/user/hbhatnagar/anaconda3/envs/NSD-Saliency/lib/python3.8/site-packages/numpy/core/fromnumeric.py:3432: RuntimeWarning: Mean of empty slice.\n",
      "  return _methods._mean(a, axis=axis, dtype=dtype,\n",
      "/gpfs01/bartels/user/hbhatnagar/anaconda3/envs/NSD-Saliency/lib/python3.8/site-packages/numpy/core/_methods.py:182: RuntimeWarning: invalid value encountered in divide\n",
      "  ret = um.true_divide(\n",
      "100%|██████████| 30000/30000 [00:00<00:00, 136005.46it/s]\n"
     ]
    },
    {
     "name": "stdout",
     "output_type": "stream",
     "text": [
      "Successfully saved phc1 betas to disk\n",
      "Averaging for phc2\n"
     ]
    },
    {
     "name": "stderr",
     "output_type": "stream",
     "text": [
      " 72%|███████▏  | 21514/30000 [00:00<00:00, 113848.05it/s]/gpfs01/bartels/user/hbhatnagar/anaconda3/envs/NSD-Saliency/lib/python3.8/site-packages/numpy/core/fromnumeric.py:3432: RuntimeWarning: Mean of empty slice.\n",
      "  return _methods._mean(a, axis=axis, dtype=dtype,\n",
      "/gpfs01/bartels/user/hbhatnagar/anaconda3/envs/NSD-Saliency/lib/python3.8/site-packages/numpy/core/_methods.py:182: RuntimeWarning: invalid value encountered in divide\n",
      "  ret = um.true_divide(\n",
      "100%|██████████| 30000/30000 [00:00<00:00, 134640.82it/s]\n"
     ]
    },
    {
     "name": "stdout",
     "output_type": "stream",
     "text": [
      "Successfully saved phc2 betas to disk\n",
      "Averaging for mst\n"
     ]
    },
    {
     "name": "stderr",
     "output_type": "stream",
     "text": [
      " 37%|███▋      | 11140/30000 [00:00<00:00, 111391.08it/s]/gpfs01/bartels/user/hbhatnagar/anaconda3/envs/NSD-Saliency/lib/python3.8/site-packages/numpy/core/fromnumeric.py:3432: RuntimeWarning: Mean of empty slice.\n",
      "  return _methods._mean(a, axis=axis, dtype=dtype,\n",
      "/gpfs01/bartels/user/hbhatnagar/anaconda3/envs/NSD-Saliency/lib/python3.8/site-packages/numpy/core/_methods.py:182: RuntimeWarning: invalid value encountered in divide\n",
      "  ret = um.true_divide(\n",
      "100%|██████████| 30000/30000 [00:00<00:00, 175869.91it/s]\n"
     ]
    },
    {
     "name": "stdout",
     "output_type": "stream",
     "text": [
      "Successfully saved mst betas to disk\n",
      "Averaging for hmt\n"
     ]
    },
    {
     "name": "stderr",
     "output_type": "stream",
     "text": [
      " 48%|████▊     | 14550/30000 [00:00<00:00, 75300.85it/s]/gpfs01/bartels/user/hbhatnagar/anaconda3/envs/NSD-Saliency/lib/python3.8/site-packages/numpy/core/fromnumeric.py:3432: RuntimeWarning: Mean of empty slice.\n",
      "  return _methods._mean(a, axis=axis, dtype=dtype,\n",
      "/gpfs01/bartels/user/hbhatnagar/anaconda3/envs/NSD-Saliency/lib/python3.8/site-packages/numpy/core/_methods.py:182: RuntimeWarning: invalid value encountered in divide\n",
      "  ret = um.true_divide(\n",
      "100%|██████████| 30000/30000 [00:00<00:00, 105974.66it/s]\n"
     ]
    },
    {
     "name": "stdout",
     "output_type": "stream",
     "text": [
      "Successfully saved hmt betas to disk\n",
      "Averaging for lo2\n"
     ]
    },
    {
     "name": "stderr",
     "output_type": "stream",
     "text": [
      " 29%|██▊       | 8595/30000 [00:00<00:00, 85933.69it/s]/gpfs01/bartels/user/hbhatnagar/anaconda3/envs/NSD-Saliency/lib/python3.8/site-packages/numpy/core/fromnumeric.py:3432: RuntimeWarning: Mean of empty slice.\n",
      "  return _methods._mean(a, axis=axis, dtype=dtype,\n",
      "/gpfs01/bartels/user/hbhatnagar/anaconda3/envs/NSD-Saliency/lib/python3.8/site-packages/numpy/core/_methods.py:182: RuntimeWarning: invalid value encountered in divide\n",
      "  ret = um.true_divide(\n",
      "100%|██████████| 30000/30000 [00:00<00:00, 148923.77it/s]\n"
     ]
    },
    {
     "name": "stdout",
     "output_type": "stream",
     "text": [
      "Successfully saved lo2 betas to disk\n",
      "Averaging for lo1\n"
     ]
    },
    {
     "name": "stderr",
     "output_type": "stream",
     "text": [
      " 62%|██████▏   | 18565/30000 [00:00<00:00, 96600.90it/s]/gpfs01/bartels/user/hbhatnagar/anaconda3/envs/NSD-Saliency/lib/python3.8/site-packages/numpy/core/fromnumeric.py:3432: RuntimeWarning: Mean of empty slice.\n",
      "  return _methods._mean(a, axis=axis, dtype=dtype,\n",
      "/gpfs01/bartels/user/hbhatnagar/anaconda3/envs/NSD-Saliency/lib/python3.8/site-packages/numpy/core/_methods.py:182: RuntimeWarning: invalid value encountered in divide\n",
      "  ret = um.true_divide(\n",
      "100%|██████████| 30000/30000 [00:00<00:00, 124401.12it/s]\n"
     ]
    },
    {
     "name": "stdout",
     "output_type": "stream",
     "text": [
      "Successfully saved lo1 betas to disk\n",
      "Averaging for v3b\n"
     ]
    },
    {
     "name": "stderr",
     "output_type": "stream",
     "text": [
      " 53%|█████▎    | 15805/30000 [00:00<00:00, 81924.29it/s]/gpfs01/bartels/user/hbhatnagar/anaconda3/envs/NSD-Saliency/lib/python3.8/site-packages/numpy/core/fromnumeric.py:3432: RuntimeWarning: Mean of empty slice.\n",
      "  return _methods._mean(a, axis=axis, dtype=dtype,\n",
      "/gpfs01/bartels/user/hbhatnagar/anaconda3/envs/NSD-Saliency/lib/python3.8/site-packages/numpy/core/_methods.py:182: RuntimeWarning: invalid value encountered in divide\n",
      "  ret = um.true_divide(\n",
      "100%|██████████| 30000/30000 [00:00<00:00, 113182.86it/s]\n"
     ]
    },
    {
     "name": "stdout",
     "output_type": "stream",
     "text": [
      "Successfully saved v3b betas to disk\n",
      "Averaging for v3a\n"
     ]
    },
    {
     "name": "stderr",
     "output_type": "stream",
     "text": [
      " 81%|████████▏ | 24449/30000 [00:00<00:00, 92044.36it/s]/gpfs01/bartels/user/hbhatnagar/anaconda3/envs/NSD-Saliency/lib/python3.8/site-packages/numpy/core/fromnumeric.py:3432: RuntimeWarning: Mean of empty slice.\n",
      "  return _methods._mean(a, axis=axis, dtype=dtype,\n",
      "/gpfs01/bartels/user/hbhatnagar/anaconda3/envs/NSD-Saliency/lib/python3.8/site-packages/numpy/core/_methods.py:182: RuntimeWarning: invalid value encountered in divide\n",
      "  ret = um.true_divide(\n",
      "100%|██████████| 30000/30000 [00:00<00:00, 94555.18it/s]\n"
     ]
    },
    {
     "name": "stdout",
     "output_type": "stream",
     "text": [
      "Successfully saved v3a betas to disk\n",
      "Averaging for ips0\n"
     ]
    },
    {
     "name": "stderr",
     "output_type": "stream",
     "text": [
      " 74%|███████▎  | 22102/30000 [00:00<00:00, 80373.25it/s]/gpfs01/bartels/user/hbhatnagar/anaconda3/envs/NSD-Saliency/lib/python3.8/site-packages/numpy/core/fromnumeric.py:3432: RuntimeWarning: Mean of empty slice.\n",
      "  return _methods._mean(a, axis=axis, dtype=dtype,\n",
      "/gpfs01/bartels/user/hbhatnagar/anaconda3/envs/NSD-Saliency/lib/python3.8/site-packages/numpy/core/_methods.py:182: RuntimeWarning: invalid value encountered in divide\n",
      "  ret = um.true_divide(\n",
      "100%|██████████| 30000/30000 [00:00<00:00, 90856.53it/s]\n"
     ]
    },
    {
     "name": "stdout",
     "output_type": "stream",
     "text": [
      "Successfully saved ips0 betas to disk\n",
      "Averaging for ips1\n"
     ]
    },
    {
     "name": "stderr",
     "output_type": "stream",
     "text": [
      " 56%|█████▌    | 16759/30000 [00:00<00:00, 59074.86it/s]/gpfs01/bartels/user/hbhatnagar/anaconda3/envs/NSD-Saliency/lib/python3.8/site-packages/numpy/core/fromnumeric.py:3432: RuntimeWarning: Mean of empty slice.\n",
      "  return _methods._mean(a, axis=axis, dtype=dtype,\n",
      "/gpfs01/bartels/user/hbhatnagar/anaconda3/envs/NSD-Saliency/lib/python3.8/site-packages/numpy/core/_methods.py:182: RuntimeWarning: invalid value encountered in divide\n",
      "  ret = um.true_divide(\n",
      "100%|██████████| 30000/30000 [00:00<00:00, 78547.62it/s]\n"
     ]
    },
    {
     "name": "stdout",
     "output_type": "stream",
     "text": [
      "Successfully saved ips1 betas to disk\n",
      "Averaging for ips2\n"
     ]
    },
    {
     "name": "stderr",
     "output_type": "stream",
     "text": [
      " 70%|██████▉   | 20997/30000 [00:00<00:00, 80020.58it/s]/gpfs01/bartels/user/hbhatnagar/anaconda3/envs/NSD-Saliency/lib/python3.8/site-packages/numpy/core/fromnumeric.py:3432: RuntimeWarning: Mean of empty slice.\n",
      "  return _methods._mean(a, axis=axis, dtype=dtype,\n",
      "/gpfs01/bartels/user/hbhatnagar/anaconda3/envs/NSD-Saliency/lib/python3.8/site-packages/numpy/core/_methods.py:182: RuntimeWarning: invalid value encountered in divide\n",
      "  ret = um.true_divide(\n",
      "100%|██████████| 30000/30000 [00:00<00:00, 90952.02it/s]\n"
     ]
    },
    {
     "name": "stdout",
     "output_type": "stream",
     "text": [
      "Successfully saved ips2 betas to disk\n",
      "Averaging for ips3\n"
     ]
    },
    {
     "name": "stderr",
     "output_type": "stream",
     "text": [
      " 50%|████▉     | 14905/30000 [00:00<00:00, 77054.86it/s]/gpfs01/bartels/user/hbhatnagar/anaconda3/envs/NSD-Saliency/lib/python3.8/site-packages/numpy/core/fromnumeric.py:3432: RuntimeWarning: Mean of empty slice.\n",
      "  return _methods._mean(a, axis=axis, dtype=dtype,\n",
      "/gpfs01/bartels/user/hbhatnagar/anaconda3/envs/NSD-Saliency/lib/python3.8/site-packages/numpy/core/_methods.py:182: RuntimeWarning: invalid value encountered in divide\n",
      "  ret = um.true_divide(\n",
      "100%|██████████| 30000/30000 [00:00<00:00, 109278.37it/s]\n"
     ]
    },
    {
     "name": "stdout",
     "output_type": "stream",
     "text": [
      "Successfully saved ips3 betas to disk\n",
      "Averaging for ips4\n"
     ]
    },
    {
     "name": "stderr",
     "output_type": "stream",
     "text": [
      " 36%|███▋      | 10879/30000 [00:00<00:00, 108774.80it/s]/gpfs01/bartels/user/hbhatnagar/anaconda3/envs/NSD-Saliency/lib/python3.8/site-packages/numpy/core/fromnumeric.py:3432: RuntimeWarning: Mean of empty slice.\n",
      "  return _methods._mean(a, axis=axis, dtype=dtype,\n",
      "/gpfs01/bartels/user/hbhatnagar/anaconda3/envs/NSD-Saliency/lib/python3.8/site-packages/numpy/core/_methods.py:182: RuntimeWarning: invalid value encountered in divide\n",
      "  ret = um.true_divide(\n",
      "100%|██████████| 30000/30000 [00:00<00:00, 180177.24it/s]\n"
     ]
    },
    {
     "name": "stdout",
     "output_type": "stream",
     "text": [
      "Successfully saved ips4 betas to disk\n",
      "Averaging for ips5\n"
     ]
    },
    {
     "name": "stderr",
     "output_type": "stream",
     "text": [
      " 34%|███▍      | 10297/30000 [00:00<00:00, 102965.68it/s]/gpfs01/bartels/user/hbhatnagar/anaconda3/envs/NSD-Saliency/lib/python3.8/site-packages/numpy/core/fromnumeric.py:3432: RuntimeWarning: Mean of empty slice.\n",
      "  return _methods._mean(a, axis=axis, dtype=dtype,\n",
      "/gpfs01/bartels/user/hbhatnagar/anaconda3/envs/NSD-Saliency/lib/python3.8/site-packages/numpy/core/_methods.py:182: RuntimeWarning: invalid value encountered in divide\n",
      "  ret = um.true_divide(\n",
      "100%|██████████| 30000/30000 [00:00<00:00, 171419.74it/s]\n"
     ]
    },
    {
     "name": "stdout",
     "output_type": "stream",
     "text": [
      "Successfully saved ips5 betas to disk\n",
      "Averaging for spl1\n"
     ]
    },
    {
     "name": "stderr",
     "output_type": "stream",
     "text": [
      " 79%|███████▉  | 23649/30000 [00:00<00:00, 125624.58it/s]/gpfs01/bartels/user/hbhatnagar/anaconda3/envs/NSD-Saliency/lib/python3.8/site-packages/numpy/core/fromnumeric.py:3432: RuntimeWarning: Mean of empty slice.\n",
      "  return _methods._mean(a, axis=axis, dtype=dtype,\n",
      "/gpfs01/bartels/user/hbhatnagar/anaconda3/envs/NSD-Saliency/lib/python3.8/site-packages/numpy/core/_methods.py:182: RuntimeWarning: invalid value encountered in divide\n",
      "  ret = um.true_divide(\n",
      "100%|██████████| 30000/30000 [00:00<00:00, 138788.50it/s]\n"
     ]
    },
    {
     "name": "stdout",
     "output_type": "stream",
     "text": [
      "Successfully saved spl1 betas to disk\n",
      "Averaging for fef\n"
     ]
    },
    {
     "name": "stderr",
     "output_type": "stream",
     "text": [
      " 82%|████████▏ | 24498/30000 [00:00<00:00, 130296.19it/s]/gpfs01/bartels/user/hbhatnagar/anaconda3/envs/NSD-Saliency/lib/python3.8/site-packages/numpy/core/fromnumeric.py:3432: RuntimeWarning: Mean of empty slice.\n",
      "  return _methods._mean(a, axis=axis, dtype=dtype,\n",
      "/gpfs01/bartels/user/hbhatnagar/anaconda3/envs/NSD-Saliency/lib/python3.8/site-packages/numpy/core/_methods.py:182: RuntimeWarning: invalid value encountered in divide\n",
      "  ret = um.true_divide(\n",
      "100%|██████████| 30000/30000 [00:00<00:00, 139972.35it/s]"
     ]
    },
    {
     "name": "stdout",
     "output_type": "stream",
     "text": [
      "Successfully saved fef betas to disk\n"
     ]
    },
    {
     "name": "stderr",
     "output_type": "stream",
     "text": [
      "\n"
     ]
    }
   ],
   "source": [
    "save_averaged_betas_all_roi_subj(subject = 2, roi_list = roi_list, resp_sub = resp_subj2, img_indices = img_indices_subj2, path = averaged_beta_files_path)"
   ]
  },
  {
   "cell_type": "code",
   "execution_count": 31,
   "id": "16cc19f1-9137-4e63-a359-910a5fee0c48",
   "metadata": {},
   "outputs": [],
   "source": [
    "def gen_avg_betas(roi):\n",
    "    \n",
    "    betas_full_file_name = f\"betas_full_{roi}_sub{subject}.npy\"\n",
    "    betas_file = np.load(DATA_PATH+f\"/{betas_full_file_name}\")\n",
    "    betas_file = betas_file[1:,:] # remove the first dummy row \n",
    "    \n",
    "    num_voxels = num_voxel_rois_dict[roi]\n",
    "                                     \n",
    "    beta_avg = [] \n",
    "    \n",
    "    # orig_idx = [] \n",
    "    \n",
    "    imgs_done = {}\n",
    "    \n",
    "    for idx, img_idx in enumerate(tqdm(img_indices_subj2)):\n",
    "        \n",
    "        # if the image has already been averaged, skip it \n",
    "        if img_idx in imgs_done:\n",
    "            continue\n",
    "        \n",
    "        list_of_indices = avg_df_subj2_dict[img_idx]\n",
    "        \n",
    "        # filter out of bound indices \n",
    "        valid_indices = [i for i in list_of_indices if i < betas_file.shape[0]]\n",
    "        \n",
    "        group_average = np.mean(betas_file[valid_indices], axis = 0) \n",
    "\n",
    "        \n",
    "        beta_avg.append(group_average)\n",
    "        # orig_idx.append(img_idx) \n",
    "        \n",
    "        imgs_done[img_idx] = img_idx # add to a dict that can then skip the averaging again \n",
    "    \n",
    "    return np.array(beta_avg)\n",
    "        "
   ]
  },
  {
   "cell_type": "code",
   "execution_count": 32,
   "id": "eff5becd-ed60-4ba6-bce1-7ab8a9b1f7ba",
   "metadata": {},
   "outputs": [
    {
     "name": "stderr",
     "output_type": "stream",
     "text": [
      " 78%|███████▊  | 23366/30000 [00:00<00:00, 67399.86it/s]/gpfs01/bartels/user/hbhatnagar/anaconda3/envs/NSD-Saliency/lib/python3.8/site-packages/numpy/core/fromnumeric.py:3432: RuntimeWarning: Mean of empty slice.\n",
      "  return _methods._mean(a, axis=axis, dtype=dtype,\n",
      "/gpfs01/bartels/user/hbhatnagar/anaconda3/envs/NSD-Saliency/lib/python3.8/site-packages/numpy/core/_methods.py:182: RuntimeWarning: invalid value encountered in divide\n",
      "  ret = um.true_divide(\n",
      "100%|██████████| 30000/30000 [00:00<00:00, 69448.63it/s]\n"
     ]
    }
   ],
   "source": [
    "beta_avg_v1_sub2 = gen_avg_betas('v1')"
   ]
  },
  {
   "cell_type": "code",
   "execution_count": 34,
   "id": "1f01d06b-a1c3-4b53-befb-e788079774a2",
   "metadata": {},
   "outputs": [
    {
     "data": {
      "text/plain": [
       "(10000, 6476)"
      ]
     },
     "execution_count": 34,
     "metadata": {},
     "output_type": "execute_result"
    }
   ],
   "source": [
    "beta_avg_v1_sub2.shape"
   ]
  },
  {
   "cell_type": "code",
   "execution_count": 35,
   "id": "b8d461e9-d3af-4367-9e03-67a5b7d87767",
   "metadata": {},
   "outputs": [],
   "source": [
    "roi = 'v1'\n",
    "\n",
    "betas_full_file_name = f\"betas_full_{roi}_sub{subject}.npy\"\n",
    "betas_file = np.load(DATA_PATH+f\"/{betas_full_file_name}\")\n",
    "betas_file = betas_file[1:,:] \n",
    "\n",
    "oob_images = [] \n",
    "\n",
    "for img_idx, indices in avg_df_subj2_dict.items(): \n",
    "    all_out_of_bounds = all( i >= betas_file.shape[0] for i in indices) \n",
    "    \n",
    "    if all_out_of_bounds: \n",
    "        # print(f\"Image {img_idx} is OOB\")\n",
    "        oob_images.append(img_idx) "
   ]
  },
  {
   "cell_type": "code",
   "execution_count": 36,
   "id": "5db19178-afc8-4e6e-85a5-a91161994ba0",
   "metadata": {},
   "outputs": [
    {
     "data": {
      "text/plain": [
       "159"
      ]
     },
     "execution_count": 36,
     "metadata": {},
     "output_type": "execute_result"
    }
   ],
   "source": [
    "len(oob_images)"
   ]
  },
  {
   "cell_type": "code",
   "execution_count": 38,
   "id": "d0e71d85-58f5-4b71-8923-4511767e9f4d",
   "metadata": {},
   "outputs": [],
   "source": [
    "def save_averaged_betas_all_roi(roi_list, path):\n",
    "    for roi in roi_list: \n",
    "        print(f\"Averaging for {roi}\")\n",
    "        \n",
    "        try:\n",
    "            avg_betas = gen_avg_betas(roi)\n",
    "            file_name = f\"betas_full_avg_{roi}_sub{subject}.npy\"\n",
    "            np.save(path+file_name, avg_betas)\n",
    "            print(f\"Successfully saved {roi} betas to disk\")\n",
    "        except: \n",
    "            print(f\"Betas for {roi} not found for subject 0{subject}, skipping.\")\n",
    "            continue\n",
    "        "
   ]
  },
  {
   "cell_type": "code",
   "execution_count": 39,
   "id": "f4e47c17-8186-401e-87c4-1548d4c64860",
   "metadata": {},
   "outputs": [
    {
     "name": "stdout",
     "output_type": "stream",
     "text": [
      "Averaging for v1\n"
     ]
    },
    {
     "name": "stderr",
     "output_type": "stream",
     "text": [
      " 72%|███████▏  | 21692/30000 [00:00<00:00, 61881.52it/s]/gpfs01/bartels/user/hbhatnagar/anaconda3/envs/NSD-Saliency/lib/python3.8/site-packages/numpy/core/fromnumeric.py:3432: RuntimeWarning: Mean of empty slice.\n",
      "  return _methods._mean(a, axis=axis, dtype=dtype,\n",
      "/gpfs01/bartels/user/hbhatnagar/anaconda3/envs/NSD-Saliency/lib/python3.8/site-packages/numpy/core/_methods.py:182: RuntimeWarning: invalid value encountered in divide\n",
      "  ret = um.true_divide(\n",
      "100%|██████████| 30000/30000 [00:00<00:00, 67553.96it/s]\n"
     ]
    },
    {
     "name": "stdout",
     "output_type": "stream",
     "text": [
      "Successfully saved v1 betas to disk\n",
      "Averaging for v2\n"
     ]
    },
    {
     "name": "stderr",
     "output_type": "stream",
     "text": [
      "100%|██████████| 30000/30000 [00:00<00:00, 61879.26it/s]\n"
     ]
    },
    {
     "name": "stdout",
     "output_type": "stream",
     "text": [
      "Successfully saved v2 betas to disk\n",
      "Averaging for v3\n"
     ]
    },
    {
     "name": "stderr",
     "output_type": "stream",
     "text": [
      "100%|██████████| 30000/30000 [00:00<00:00, 68932.92it/s]\n"
     ]
    },
    {
     "name": "stdout",
     "output_type": "stream",
     "text": [
      "Successfully saved v3 betas to disk\n",
      "Averaging for v4\n"
     ]
    },
    {
     "name": "stderr",
     "output_type": "stream",
     "text": [
      "100%|██████████| 30000/30000 [00:00<00:00, 98117.81it/s] \n"
     ]
    },
    {
     "name": "stdout",
     "output_type": "stream",
     "text": [
      "Successfully saved v4 betas to disk\n",
      "Averaging for ofa\n"
     ]
    },
    {
     "name": "stderr",
     "output_type": "stream",
     "text": [
      "100%|██████████| 30000/30000 [00:00<00:00, 110200.49it/s]\n"
     ]
    },
    {
     "name": "stdout",
     "output_type": "stream",
     "text": [
      "Successfully saved ofa betas to disk\n",
      "Averaging for ffa1\n"
     ]
    },
    {
     "name": "stderr",
     "output_type": "stream",
     "text": [
      "100%|██████████| 30000/30000 [00:00<00:00, 118180.26it/s]\n"
     ]
    },
    {
     "name": "stdout",
     "output_type": "stream",
     "text": [
      "Successfully saved ffa1 betas to disk\n",
      "Averaging for ffa2\n"
     ]
    },
    {
     "name": "stderr",
     "output_type": "stream",
     "text": [
      "100%|██████████| 30000/30000 [00:00<00:00, 105652.46it/s]\n"
     ]
    },
    {
     "name": "stdout",
     "output_type": "stream",
     "text": [
      "Successfully saved ffa2 betas to disk\n",
      "Averaging for atl\n"
     ]
    },
    {
     "name": "stderr",
     "output_type": "stream",
     "text": [
      "100%|██████████| 30000/30000 [00:00<00:00, 134220.88it/s]\n"
     ]
    },
    {
     "name": "stdout",
     "output_type": "stream",
     "text": [
      "Successfully saved atl betas to disk\n",
      "Averaging for eba\n"
     ]
    },
    {
     "name": "stderr",
     "output_type": "stream",
     "text": [
      "100%|██████████| 30000/30000 [00:01<00:00, 17200.01it/s]\n"
     ]
    },
    {
     "name": "stdout",
     "output_type": "stream",
     "text": [
      "Successfully saved eba betas to disk\n",
      "Averaging for fba1\n",
      "Betas for fba1 not found for subject 02, skipping.\n",
      "Averaging for fba2\n"
     ]
    },
    {
     "name": "stderr",
     "output_type": "stream",
     "text": [
      "100%|██████████| 30000/30000 [00:00<00:00, 56873.28it/s]\n"
     ]
    },
    {
     "name": "stdout",
     "output_type": "stream",
     "text": [
      "Successfully saved fba2 betas to disk\n",
      "Averaging for opa\n"
     ]
    },
    {
     "name": "stderr",
     "output_type": "stream",
     "text": [
      "100%|██████████| 30000/30000 [00:00<00:00, 49107.88it/s]\n"
     ]
    },
    {
     "name": "stdout",
     "output_type": "stream",
     "text": [
      "Successfully saved opa betas to disk\n",
      "Averaging for ppa\n"
     ]
    },
    {
     "name": "stderr",
     "output_type": "stream",
     "text": [
      "100%|██████████| 30000/30000 [00:00<00:00, 69805.09it/s]\n"
     ]
    },
    {
     "name": "stdout",
     "output_type": "stream",
     "text": [
      "Successfully saved ppa betas to disk\n",
      "Averaging for rsc\n"
     ]
    },
    {
     "name": "stderr",
     "output_type": "stream",
     "text": [
      "100%|██████████| 30000/30000 [00:00<00:00, 75673.22it/s]\n"
     ]
    },
    {
     "name": "stdout",
     "output_type": "stream",
     "text": [
      "Successfully saved rsc betas to disk\n",
      "Averaging for owfa\n"
     ]
    },
    {
     "name": "stderr",
     "output_type": "stream",
     "text": [
      "100%|██████████| 30000/30000 [00:00<00:00, 96111.60it/s]\n"
     ]
    },
    {
     "name": "stdout",
     "output_type": "stream",
     "text": [
      "Successfully saved owfa betas to disk\n",
      "Averaging for vwfa_1\n"
     ]
    },
    {
     "name": "stderr",
     "output_type": "stream",
     "text": [
      "100%|██████████| 30000/30000 [00:00<00:00, 115305.95it/s]\n"
     ]
    },
    {
     "name": "stdout",
     "output_type": "stream",
     "text": [
      "Successfully saved vwfa_1 betas to disk\n",
      "Averaging for vwfa_2\n"
     ]
    },
    {
     "name": "stderr",
     "output_type": "stream",
     "text": [
      "100%|██████████| 30000/30000 [00:00<00:00, 138088.33it/s]\n"
     ]
    },
    {
     "name": "stdout",
     "output_type": "stream",
     "text": [
      "Successfully saved vwfa_2 betas to disk\n",
      "Averaging for mfs_words\n"
     ]
    },
    {
     "name": "stderr",
     "output_type": "stream",
     "text": [
      "100%|██████████| 30000/30000 [00:00<00:00, 113466.49it/s]\n"
     ]
    },
    {
     "name": "stdout",
     "output_type": "stream",
     "text": [
      "Successfully saved mfs_words betas to disk\n",
      "Averaging for mtl_words\n"
     ]
    },
    {
     "name": "stderr",
     "output_type": "stream",
     "text": [
      "100%|██████████| 30000/30000 [00:00<00:00, 134827.80it/s]\n"
     ]
    },
    {
     "name": "stdout",
     "output_type": "stream",
     "text": [
      "Successfully saved mtl_words betas to disk\n",
      "Averaging for vo1\n"
     ]
    },
    {
     "name": "stderr",
     "output_type": "stream",
     "text": [
      "100%|██████████| 30000/30000 [00:00<00:00, 136391.26it/s]\n"
     ]
    },
    {
     "name": "stdout",
     "output_type": "stream",
     "text": [
      "Successfully saved vo1 betas to disk\n",
      "Averaging for vo2\n"
     ]
    },
    {
     "name": "stderr",
     "output_type": "stream",
     "text": [
      "100%|██████████| 30000/30000 [00:00<00:00, 134724.72it/s]\n"
     ]
    },
    {
     "name": "stdout",
     "output_type": "stream",
     "text": [
      "Successfully saved vo2 betas to disk\n",
      "Averaging for phc1\n"
     ]
    },
    {
     "name": "stderr",
     "output_type": "stream",
     "text": [
      "100%|██████████| 30000/30000 [00:00<00:00, 151759.69it/s]\n"
     ]
    },
    {
     "name": "stdout",
     "output_type": "stream",
     "text": [
      "Successfully saved phc1 betas to disk\n",
      "Averaging for phc2\n"
     ]
    },
    {
     "name": "stderr",
     "output_type": "stream",
     "text": [
      "100%|██████████| 30000/30000 [00:00<00:00, 131550.65it/s]\n"
     ]
    },
    {
     "name": "stdout",
     "output_type": "stream",
     "text": [
      "Successfully saved phc2 betas to disk\n",
      "Averaging for mst\n"
     ]
    },
    {
     "name": "stderr",
     "output_type": "stream",
     "text": [
      "100%|██████████| 30000/30000 [00:00<00:00, 176291.01it/s]\n"
     ]
    },
    {
     "name": "stdout",
     "output_type": "stream",
     "text": [
      "Successfully saved mst betas to disk\n",
      "Averaging for hmt\n"
     ]
    },
    {
     "name": "stderr",
     "output_type": "stream",
     "text": [
      "100%|██████████| 30000/30000 [00:00<00:00, 124490.60it/s]\n"
     ]
    },
    {
     "name": "stdout",
     "output_type": "stream",
     "text": [
      "Successfully saved hmt betas to disk\n",
      "Averaging for lo2\n"
     ]
    },
    {
     "name": "stderr",
     "output_type": "stream",
     "text": [
      "100%|██████████| 30000/30000 [00:00<00:00, 143962.33it/s]\n"
     ]
    },
    {
     "name": "stdout",
     "output_type": "stream",
     "text": [
      "Successfully saved lo2 betas to disk\n",
      "Averaging for lo1\n"
     ]
    },
    {
     "name": "stderr",
     "output_type": "stream",
     "text": [
      "100%|██████████| 30000/30000 [00:00<00:00, 123084.82it/s]\n"
     ]
    },
    {
     "name": "stdout",
     "output_type": "stream",
     "text": [
      "Successfully saved lo1 betas to disk\n",
      "Averaging for v3b\n"
     ]
    },
    {
     "name": "stderr",
     "output_type": "stream",
     "text": [
      "100%|██████████| 30000/30000 [00:00<00:00, 122679.33it/s]\n"
     ]
    },
    {
     "name": "stdout",
     "output_type": "stream",
     "text": [
      "Successfully saved v3b betas to disk\n",
      "Averaging for v3a\n"
     ]
    },
    {
     "name": "stderr",
     "output_type": "stream",
     "text": [
      "100%|██████████| 30000/30000 [00:00<00:00, 95644.63it/s]\n"
     ]
    },
    {
     "name": "stdout",
     "output_type": "stream",
     "text": [
      "Successfully saved v3a betas to disk\n",
      "Averaging for ips0\n"
     ]
    },
    {
     "name": "stderr",
     "output_type": "stream",
     "text": [
      "100%|██████████| 30000/30000 [00:00<00:00, 90033.89it/s]\n"
     ]
    },
    {
     "name": "stdout",
     "output_type": "stream",
     "text": [
      "Successfully saved ips0 betas to disk\n",
      "Averaging for ips1\n"
     ]
    },
    {
     "name": "stderr",
     "output_type": "stream",
     "text": [
      "100%|██████████| 30000/30000 [00:00<00:00, 83611.33it/s]\n"
     ]
    },
    {
     "name": "stdout",
     "output_type": "stream",
     "text": [
      "Successfully saved ips1 betas to disk\n",
      "Averaging for ips2\n"
     ]
    },
    {
     "name": "stderr",
     "output_type": "stream",
     "text": [
      "100%|██████████| 30000/30000 [00:00<00:00, 117266.00it/s]\n"
     ]
    },
    {
     "name": "stdout",
     "output_type": "stream",
     "text": [
      "Successfully saved ips2 betas to disk\n",
      "Averaging for ips3\n"
     ]
    },
    {
     "name": "stderr",
     "output_type": "stream",
     "text": [
      "100%|██████████| 30000/30000 [00:00<00:00, 109628.26it/s]\n"
     ]
    },
    {
     "name": "stdout",
     "output_type": "stream",
     "text": [
      "Successfully saved ips3 betas to disk\n",
      "Averaging for ips4\n"
     ]
    },
    {
     "name": "stderr",
     "output_type": "stream",
     "text": [
      "100%|██████████| 30000/30000 [00:00<00:00, 178335.82it/s]\n"
     ]
    },
    {
     "name": "stdout",
     "output_type": "stream",
     "text": [
      "Successfully saved ips4 betas to disk\n",
      "Averaging for ips5\n"
     ]
    },
    {
     "name": "stderr",
     "output_type": "stream",
     "text": [
      "100%|██████████| 30000/30000 [00:00<00:00, 172512.34it/s]\n"
     ]
    },
    {
     "name": "stdout",
     "output_type": "stream",
     "text": [
      "Successfully saved ips5 betas to disk\n",
      "Averaging for spl1\n"
     ]
    },
    {
     "name": "stderr",
     "output_type": "stream",
     "text": [
      "100%|██████████| 30000/30000 [00:00<00:00, 129777.60it/s]\n"
     ]
    },
    {
     "name": "stdout",
     "output_type": "stream",
     "text": [
      "Successfully saved spl1 betas to disk\n",
      "Averaging for fef\n"
     ]
    },
    {
     "name": "stderr",
     "output_type": "stream",
     "text": [
      "100%|██████████| 30000/30000 [00:00<00:00, 150106.25it/s]"
     ]
    },
    {
     "name": "stdout",
     "output_type": "stream",
     "text": [
      "Successfully saved fef betas to disk\n"
     ]
    },
    {
     "name": "stderr",
     "output_type": "stream",
     "text": [
      "\n"
     ]
    }
   ],
   "source": [
    "save_averaged_betas_all_roi(roi_list, averaged_beta_files_path)"
   ]
  },
  {
   "cell_type": "code",
   "execution_count": 46,
   "id": "1b138cc0-7dbe-45f0-b1cf-303702d23055",
   "metadata": {},
   "outputs": [],
   "source": [
    "def gen_avg_sal_maps_subjectwise(S_mat_type, subject, img_indices):\n",
    "    \n",
    "    num_pixels = 425 \n",
    "    num_images = 30000\n",
    "    \n",
    "    file_mapping = {\n",
    "        'deepgaze': \"S_mat_full_batched.npy\",\n",
    "        'edges': \"S_mat_edges.npy\",\n",
    "        'luminance': \"S_mat_luminance.npy\",\n",
    "        'saturation': \"S_mat_saturation.npy\",\n",
    "        'ittikoch': \"salmaps_all.mat\",\n",
    "        'icf': \"S_mat_icf.npy\",\n",
    "        'deepgaze2': \"S_mat_deepgaze2.npy\",\n",
    "        'gbvs': \"gbvs_all_imgs.mat\",\n",
    "        'deepgaze1':\"S_mat_deepgaze1.npy\",\n",
    "        'resnet-1':\"S_mat_resnet_stage1.npy\",\n",
    "        'resnet-2':\"S_mat_resnet_stage2.npy\",\n",
    "        'resnet-3':\"S_mat_resnet_stage3.npy\",\n",
    "        'resnet-4':\"S_mat_resnet_stage4.npy\",\n",
    "        'deepgaze2e-untrained': \"S_mat_dg2e_no_pretrain.npy\"\n",
    "    }\n",
    "    \n",
    "    if S_mat_type not in file_mapping:\n",
    "        raise ValueError(\"Argument 'S_mat_type' must be one of 'deepgaze', 'edges', 'luminance', 'saturation', 'ittikoch', 'icf', 'deepgaze2','deepgaze1', or 'gbvs'.\")\n",
    "\n",
    "    S_mat_file_name = file_mapping[S_mat_type]\n",
    "    \n",
    "    if S_mat_type in ['ittikoch', 'gbvs']:\n",
    "        maps_dataset = h5py.File(DATA_PATH + f\"/saliency_mats/subject{subject}/\" + S_mat_file_name, 'r')\n",
    "        S_mat = np.copy(maps_dataset['salmaplist'])\n",
    "        maps_dataset.close()\n",
    "        S_mat = S_mat.reshape(num_pixels, num_pixels, num_images).transpose(1, 0, 2).reshape(-1, num_images).T\n",
    "    else:\n",
    "        S_mat = np.load(DATA_PATH + f\"/saliency_mats/subject{subject}/{S_mat_file_name}\")\n",
    "\n",
    "    \n",
    "    if S_mat_type == 'deepgaze':\n",
    "        S_mat = S_mat[1:,:] # remove dummy row \n",
    "    \n",
    "    S_mat = S_mat[:27750,:] # remove the last 3 session voxels for session 38,39 and 40 \n",
    "    \n",
    "    S_mat_avg = [] \n",
    "    imgs_done = {}\n",
    "    \n",
    "    for idx, img_idx in enumerate(tqdm(img_indices)):\n",
    "        # if the image has already been averaged, skip it \n",
    "        if img_idx in imgs_done:\n",
    "            continue\n",
    "        list_of_indices = avg_df_subj2_dict[img_idx]\n",
    "        \n",
    "        # filter out of bound indices \n",
    "        valid_indices = [i for i in list_of_indices if i < S_mat.shape[0]]\n",
    "        group_average = np.mean(S_mat[valid_indices], axis = 0) \n",
    "        S_mat_avg.append(group_average)\n",
    "        imgs_done[img_idx] = img_idx # add to a dict that can then skip the averaging again \n",
    "    \n",
    "    return np.array(S_mat_avg)\n",
    "        "
   ]
  },
  {
   "cell_type": "code",
   "execution_count": 47,
   "id": "84698909-b56e-4942-bee1-7e1f73d37284",
   "metadata": {},
   "outputs": [
    {
     "name": "stderr",
     "output_type": "stream",
     "text": [
      " 92%|█████████▏| 27578/30000 [00:18<00:00, 4651.50it/s]/gpfs01/bartels/user/hbhatnagar/anaconda3/envs/NSD-Saliency/lib/python3.8/site-packages/numpy/core/fromnumeric.py:3432: RuntimeWarning: Mean of empty slice.\n",
      "  return _methods._mean(a, axis=axis, dtype=dtype,\n",
      "/gpfs01/bartels/user/hbhatnagar/anaconda3/envs/NSD-Saliency/lib/python3.8/site-packages/numpy/core/_methods.py:182: RuntimeWarning: invalid value encountered in divide\n",
      "  ret = um.true_divide(\n",
      "100%|██████████| 30000/30000 [00:18<00:00, 1613.55it/s]\n"
     ]
    }
   ],
   "source": [
    "S_mat_averaged = gen_avg_sal_maps_subjectwise(subject = 2, S_mat_type = 'deepgaze', img_indices = img_indices_subj2)"
   ]
  },
  {
   "cell_type": "markdown",
   "id": "4099aee3-e95a-464b-8e14-5cbb537503ce",
   "metadata": {},
   "source": [
    "# Correlations "
   ]
  },
  {
   "cell_type": "code",
   "execution_count": 49,
   "id": "71316b1c-738e-4b47-bdd2-a70f349b5f30",
   "metadata": {},
   "outputs": [],
   "source": [
    "def gen_corr_w_beta(roi, print_log, S_mat, subject):\n",
    "    \n",
    "    num_pixels = 425 \n",
    "    \n",
    "    print(f\"Computing correlation for {roi}\\n\")\n",
    "\n",
    "    K_mat = np.load(DATA_PATH+f\"/K_mat_subj{subject}_{roi}.npy.npz\")\n",
    "    K_mat = K_mat['arr_0']\n",
    "   \n",
    "    if print_log: \n",
    "        print(f\"K matrix: {K_mat.shape}\")\n",
    "    \n",
    "    betas_mat = np.load(averaged_beta_files_path+f\"/betas_full_avg_{roi}.npy\")\n",
    "          \n",
    "    roi_valid_indices = np.load(DATA_PATH+f\"/{roi}_valid_indices_subj{subject}.npy\")\n",
    "   \n",
    "    if print_log: \n",
    "        print(f\"Betas matrix before valid: {betas_mat.shape}\")\n",
    "        print(f\"Valid indices shape: {roi_valid_indices.shape}\")\n",
    "    \n",
    "    # index the betas for the corresponding voxels that are valid \n",
    "    betas_val = betas_mat[:,roi_valid_indices] \n",
    "    \n",
    "    \n",
    "    # betas_val = betas_val[1:,:] # remove the first dummy row \n",
    "    if print_log: \n",
    "        print(f\"Betas matrix: {betas_val.shape}\")\n",
    "    \n",
    "    if S_mat.ndim !=2: # This means that the S_mat has not been unrolled \n",
    "        S_mat = S_mat.reshape(-1, num_pixels * num_pixels)\n",
    "        \n",
    "    # Remove NaN rows if present from both Betas and S_mat\n",
    "    nan_rows = np.isnan(betas_val).any(axis = 1) \n",
    "    betas_val = betas_val[~nan_rows]\n",
    "    S_mat = S_mat[~nan_rows]\n",
    "    \n",
    "    if print_log: \n",
    "        print(f\"Betas matrix after nan removal: {betas_val.shape}\")\n",
    "    \n",
    "    \n",
    "    Y_hat = S_mat @ K_mat.T\n",
    "    if print_log:\n",
    "        print(f\"Y_hat matrix: {Y_hat.shape}\\n\\n\")      \n",
    "    \n",
    "    # Correlate between betas_valid and Y_hat \n",
    "    corr_mat = np.corrcoef(betas_val,Y_hat,rowvar = False) # Example: (27750, 4165) x (27750, 4165) for V1 \n",
    "\n",
    "    return corr_mat"
   ]
  },
  {
   "cell_type": "code",
   "execution_count": 70,
   "id": "af3d92a4-ebad-400c-a5a3-fcc0ed1b5224",
   "metadata": {},
   "outputs": [],
   "source": [
    "def generate_corr_full(subject, roi_list, S_mat, print_log = False):\n",
    "    '''\n",
    "    Generate the correlation coeff for the given list of ROIs and return it as a dataframe \n",
    "    '''\n",
    "    corr_vals = {}\n",
    "    \n",
    "    for roi in roi_list:\n",
    "        try:\n",
    "            corr_mat_roi = gen_corr_w_beta(roi = roi, S_mat = S_mat, print_log = print_log, subject = subject) \n",
    "            rel_size = (corr_mat_roi.shape[0])// 2\n",
    "            corr_mat_rel_roi = corr_mat_roi[rel_size:,:rel_size]\n",
    "            corr_vals[roi] = corr_mat_rel_roi.diagonal() \n",
    "        except:\n",
    "            print(f\"{roi} not found, skipping\")\n",
    "       \n",
    "    \n",
    "    # Create a main dataframe to which all smaller dataframes (for each ROI) will be appended \n",
    "    df_main = pd.DataFrame(columns = ['ROI','corr_coeff'])\n",
    "    \n",
    "    for key,val in corr_vals.items(): # Key: ROI, value: array of correlations\n",
    "        roi_as_list = [key] * val.shape[0] # duplicate the roi string so that it's in the format we want \n",
    "        corr_val_list = val\n",
    "        temp_df = pd.DataFrame({'ROI': roi_as_list, 'corr_coeff':corr_val_list})   \n",
    "        df_main = pd.concat((df_main, temp_df))\n",
    "        \n",
    "    return df_main"
   ]
  },
  {
   "cell_type": "code",
   "execution_count": 51,
   "id": "38cc9c1b-9cb9-4b71-868d-eba482206246",
   "metadata": {},
   "outputs": [],
   "source": [
    "viz_roi_list = [\"v1\",\"v2\",\"v3\",\"v4\"]\n",
    "floc_faces_roi_list = [\"ofa\",\"ffa1\", \"ffa2\", \"atl\"]\n",
    "floc_words_roi_list = [\"eba\",\"fba1\", \"fba2\"]\n",
    "floc_places_roi_list = [\"opa\", \"ppa\", \"rsc\"]\n",
    "floc_bodies_roi_list = [\"owfa\", \"vwfa_1\", \"vwfa_2\", \"mfs_words\", \"mtl_words\"]\n",
    "\n",
    "ventral_temporal_roi_list = [\"vo1\",\"vo2\",\"phc1\",\"phc2\"]\n",
    "dorso_lateral_roi_list = [\"v3a\",\"v3b\",\"lo2\",\"lo1\"]\n",
    "pareital_frontal_roi_list = [\"ips0\",\"ips1\",\"ips2\",\"ips3\",\"ips4\",\"ips5\",\"spl1\",\"fef\"]\n",
    "\n",
    "list_a = [\"v3a\",\"v3b\", \"ips0\",\"ips1\",\"ips2\",\"ips3\",\"ips4\",\"ips5\", \"spl1\",\"fef\"]\n",
    "list_b = [\"vo1\",\"vo2\",\"lo1\",\"lo2\",\"phc1\",\"phc2\"]\n"
   ]
  },
  {
   "cell_type": "code",
   "execution_count": 52,
   "id": "20872579-d47b-4d05-947d-e0af9e34452e",
   "metadata": {},
   "outputs": [],
   "source": [
    "def plot_corr_violinplot(df , hue_order = None, title = \"Correlation\" , palette = \"tab20\"):\n",
    "    g = sns.violinplot(data = df, x = \"ROI\" , y = \"corr_coeff\", hue = \"type\", palette = palette, hue_order = hue_order)\n",
    "    sns.despine()\n",
    "    g.axhline(0)\n",
    "    g.set(title = title);"
   ]
  },
  {
   "cell_type": "code",
   "execution_count": 65,
   "id": "f08a8086-f117-4693-9b66-905997674867",
   "metadata": {},
   "outputs": [
    {
     "name": "stdout",
     "output_type": "stream",
     "text": [
      "Computing correlation for v1\n",
      "\n",
      "Computing correlation for v2\n",
      "\n",
      "Computing correlation for v3\n",
      "\n",
      "Computing correlation for v4\n",
      "\n"
     ]
    }
   ],
   "source": [
    "corr_df_viz = generate_corr_full(subject = 2, roi_list = viz_roi_list,S_mat =  S_mat_averaged)"
   ]
  },
  {
   "cell_type": "code",
   "execution_count": 66,
   "id": "6a388153-d268-4823-b8f7-f9638ecfdf9b",
   "metadata": {},
   "outputs": [
    {
     "data": {
      "image/png": "[encoded data removed]",
      "text/plain": [
       "<Figure size 640x480 with 1 Axes>"
      ]
     },
     "metadata": {},
     "output_type": "display_data"
    }
   ],
   "source": [
    "g = sns.violinplot(data = corr_df_viz, x = \"ROI\" , y = \"corr_coeff\")\n",
    "sns.despine()\n",
    "g.axhline(0)\n",
    "g.set(title = 'Correlations for Viusal ROIs');"
   ]
  },
  {
   "cell_type": "code",
   "execution_count": 67,
   "id": "6123f3fe-0fb4-442a-a3c6-767a2bd615aa",
   "metadata": {},
   "outputs": [],
   "source": [
    "def concat_df_with_type(df_list , type_list):\n",
    "    '''\n",
    "    Concatenate the corr dataframes such that they each have a colunn 'type' which contains the type of the data. \n",
    "    Such as DeepGaze, edge, lumninance, etc.\n",
    "    \n",
    "    '''\n",
    "    dfs_with_type = [df.assign(type=corr_type) for df, corr_type in zip(df_list, type_list)]\n",
    "    df_main = pd.concat(dfs_with_type, ignore_index=True)\n",
    "    \n",
    "    return df_main"
   ]
  },
  {
   "cell_type": "code",
   "execution_count": 68,
   "id": "7fab2c8f-0dbe-455e-8cfe-68eaabbbd40b",
   "metadata": {},
   "outputs": [
    {
     "name": "stdout",
     "output_type": "stream",
     "text": [
      "Computing correlation for ofa\n",
      "\n",
      "Computing correlation for ffa1\n",
      "\n",
      "Computing correlation for ffa2\n",
      "\n",
      "Computing correlation for atl\n",
      "\n"
     ]
    }
   ],
   "source": [
    "corr_df_faces = generate_corr_full(subject = 2, roi_list = floc_faces_roi_list, S_mat = S_mat_averaged)"
   ]
  },
  {
   "cell_type": "code",
   "execution_count": 71,
   "id": "a622ea76-3f67-46c1-9e5c-be54d93da5d4",
   "metadata": {},
   "outputs": [
    {
     "name": "stdout",
     "output_type": "stream",
     "text": [
      "Computing correlation for eba\n",
      "\n",
      "Computing correlation for fba1\n",
      "\n",
      "fba1 not found, skipping\n",
      "Computing correlation for fba2\n",
      "\n"
     ]
    }
   ],
   "source": [
    "corr_df_words = generate_corr_full(subject = 2, roi_list = floc_words_roi_list, S_mat = S_mat_averaged)"
   ]
  },
  {
   "cell_type": "code",
   "execution_count": 72,
   "id": "93ec803c-895e-4f3f-8d62-4f887d3ffcb8",
   "metadata": {},
   "outputs": [
    {
     "name": "stdout",
     "output_type": "stream",
     "text": [
      "Computing correlation for opa\n",
      "\n",
      "Computing correlation for ppa\n",
      "\n",
      "Computing correlation for rsc\n",
      "\n"
     ]
    }
   ],
   "source": [
    "corr_df_places = generate_corr_full(subject = 2, roi_list = floc_places_roi_list, S_mat = S_mat_averaged)"
   ]
  },
  {
   "cell_type": "code",
   "execution_count": 73,
   "id": "97ba2514-3f57-40ad-8c34-69d6e919006e",
   "metadata": {},
   "outputs": [
    {
     "name": "stdout",
     "output_type": "stream",
     "text": [
      "Computing correlation for owfa\n",
      "\n",
      "Computing correlation for vwfa_1\n",
      "\n",
      "Computing correlation for vwfa_2\n",
      "\n",
      "Computing correlation for mfs_words\n",
      "\n",
      "Computing correlation for mtl_words\n",
      "\n"
     ]
    }
   ],
   "source": [
    "corr_df_bodies = generate_corr_full(subject = 2, roi_list = floc_bodies_roi_list, S_mat = S_mat_averaged)"
   ]
  },
  {
   "cell_type": "code",
   "execution_count": 74,
   "id": "cd77e4b1-a613-42ce-ae25-c9e2b0b6a531",
   "metadata": {},
   "outputs": [
    {
     "name": "stdout",
     "output_type": "stream",
     "text": [
      "Computing correlation for v3a\n",
      "\n",
      "Computing correlation for v3b\n",
      "\n",
      "Computing correlation for ips0\n",
      "\n",
      "Computing correlation for ips1\n",
      "\n",
      "Computing correlation for ips2\n",
      "\n",
      "Computing correlation for ips3\n",
      "\n",
      "Computing correlation for ips4\n",
      "\n",
      "Computing correlation for ips5\n",
      "\n",
      "Computing correlation for spl1\n",
      "\n",
      "Computing correlation for fef\n",
      "\n"
     ]
    }
   ],
   "source": [
    "corr_df_list_a = generate_corr_full(subject =2 , roi_list = list_a, S_mat = S_mat_averaged)"
   ]
  },
  {
   "cell_type": "code",
   "execution_count": 75,
   "id": "4d0d36d2-48ab-4958-8405-afc48ae4223d",
   "metadata": {},
   "outputs": [
    {
     "name": "stdout",
     "output_type": "stream",
     "text": [
      "Computing correlation for vo1\n",
      "\n",
      "Computing correlation for vo2\n",
      "\n",
      "Computing correlation for lo1\n",
      "\n",
      "Computing correlation for lo2\n",
      "\n",
      "Computing correlation for phc1\n",
      "\n",
      "Computing correlation for phc2\n",
      "\n"
     ]
    }
   ],
   "source": [
    "corr_df_list_b = generate_corr_full(subject =2, roi_list = list_b, S_mat = S_mat_averaged)"
   ]
  },
  {
   "cell_type": "code",
   "execution_count": 76,
   "id": "c8a82650-c05b-4534-a071-b963ae63c97e",
   "metadata": {},
   "outputs": [],
   "source": [
    "corr_dfs_deepgaze = {} \n",
    "\n",
    "corr_dfs_deepgaze['viz'] = corr_df_viz\n",
    "corr_dfs_deepgaze['faces'] = corr_df_faces\n",
    "corr_dfs_deepgaze['words'] = corr_df_words\n",
    "corr_dfs_deepgaze['places']= corr_df_places\n",
    "corr_dfs_deepgaze['bodies']= corr_df_bodies\n",
    "corr_dfs_deepgaze['list_a']= corr_df_list_a\n",
    "corr_dfs_deepgaze['list_b']= corr_df_list_b"
   ]
  },
  {
   "cell_type": "code",
   "execution_count": 77,
   "id": "05c0bfe5-fb82-4111-8b34-909fcd6d012e",
   "metadata": {},
   "outputs": [],
   "source": [
    "pickle.dump(corr_dfs_deepgaze, open(f\"{DATA_PATH}/corr_dictionaries/corr_dfs_deepgaze_subject2.pkl\", \"wb\"))"
   ]
  },
  {
   "cell_type": "markdown",
   "id": "359d87ad-8c2f-4dc4-8942-ae24a6cb9b9b",
   "metadata": {},
   "source": [
    "## Edges"
   ]
  },
  {
   "cell_type": "code",
   "execution_count": 79,
   "id": "34851d60-ebb2-4b91-badd-2e9ead708155",
   "metadata": {},
   "outputs": [
    {
     "name": "stderr",
     "output_type": "stream",
     "text": [
      " 92%|█████████▏| 27453/30000 [00:50<00:01, 2162.39it/s]/gpfs01/bartels/user/hbhatnagar/anaconda3/envs/NSD-Saliency/lib/python3.8/site-packages/numpy/core/fromnumeric.py:3432: RuntimeWarning: Mean of empty slice.\n",
      "  return _methods._mean(a, axis=axis, dtype=dtype,\n",
      "/gpfs01/bartels/user/hbhatnagar/anaconda3/envs/NSD-Saliency/lib/python3.8/site-packages/numpy/core/_methods.py:182: RuntimeWarning: invalid value encountered in divide\n",
      "  ret = um.true_divide(\n",
      "100%|██████████| 30000/30000 [00:50<00:00, 589.55it/s] \n"
     ]
    }
   ],
   "source": [
    "S_mat_edges_averaged = gen_avg_sal_maps_subjectwise(subject = 2, S_mat_type = 'edges', img_indices = img_indices_subj2)"
   ]
  },
  {
   "cell_type": "code",
   "execution_count": 81,
   "id": "b3f93ec3-8d52-4966-952b-ede53fbf529f",
   "metadata": {},
   "outputs": [
    {
     "name": "stdout",
     "output_type": "stream",
     "text": [
      "Computing correlation for v1\n",
      "\n",
      "Computing correlation for v2\n",
      "\n",
      "Computing correlation for v3\n",
      "\n",
      "Computing correlation for v4\n",
      "\n"
     ]
    }
   ],
   "source": [
    "corr_df_viz_edges = generate_corr_full(subject = 2, roi_list = viz_roi_list, S_mat= S_mat_edges_averaged)"
   ]
  },
  {
   "cell_type": "code",
   "execution_count": 82,
   "id": "3307db99-039c-455c-acba-a0eb965b84b8",
   "metadata": {},
   "outputs": [
    {
     "name": "stdout",
     "output_type": "stream",
     "text": [
      "Computing correlation for ofa\n",
      "\n",
      "Computing correlation for ffa1\n",
      "\n",
      "Computing correlation for ffa2\n",
      "\n",
      "Computing correlation for atl\n",
      "\n"
     ]
    }
   ],
   "source": [
    "corr_df_faces_edges = generate_corr_full(subject = 2, roi_list = floc_faces_roi_list,  S_mat = S_mat_edges_averaged, print_log = False)"
   ]
  },
  {
   "cell_type": "code",
   "execution_count": 83,
   "id": "0bfca8d7-070a-4743-979a-82b631911847",
   "metadata": {},
   "outputs": [
    {
     "name": "stdout",
     "output_type": "stream",
     "text": [
      "Computing correlation for eba\n",
      "\n",
      "Computing correlation for fba1\n",
      "\n",
      "fba1 not found, skipping\n",
      "Computing correlation for fba2\n",
      "\n"
     ]
    }
   ],
   "source": [
    "corr_df_words_edges = generate_corr_full(subject = 2, roi_list = floc_words_roi_list, S_mat = S_mat_edges_averaged, print_log = False)"
   ]
  },
  {
   "cell_type": "code",
   "execution_count": 84,
   "id": "feb73295-8725-4516-a453-49f1ad31aef2",
   "metadata": {},
   "outputs": [
    {
     "name": "stdout",
     "output_type": "stream",
     "text": [
      "Computing correlation for opa\n",
      "\n",
      "Computing correlation for ppa\n",
      "\n",
      "Computing correlation for rsc\n",
      "\n"
     ]
    }
   ],
   "source": [
    "corr_df_places_edges = generate_corr_full(subject = 2, roi_list =floc_places_roi_list,  S_mat = S_mat_edges_averaged, print_log = False)"
   ]
  },
  {
   "cell_type": "code",
   "execution_count": 85,
   "id": "373bf5e3-dc97-4586-8def-f7258354616a",
   "metadata": {},
   "outputs": [
    {
     "name": "stdout",
     "output_type": "stream",
     "text": [
      "Computing correlation for owfa\n",
      "\n",
      "Computing correlation for vwfa_1\n",
      "\n",
      "Computing correlation for vwfa_2\n",
      "\n",
      "Computing correlation for mfs_words\n",
      "\n",
      "Computing correlation for mtl_words\n",
      "\n"
     ]
    }
   ],
   "source": [
    "corr_df_bodies_edges = generate_corr_full(subject = 2, roi_list = floc_bodies_roi_list,  S_mat = S_mat_edges_averaged, print_log = False)"
   ]
  },
  {
   "cell_type": "code",
   "execution_count": 86,
   "id": "21f59a12-5744-4b28-914c-ce23ec50da4e",
   "metadata": {},
   "outputs": [
    {
     "name": "stdout",
     "output_type": "stream",
     "text": [
      "Computing correlation for v3a\n",
      "\n",
      "Computing correlation for v3b\n",
      "\n",
      "Computing correlation for ips0\n",
      "\n",
      "Computing correlation for ips1\n",
      "\n",
      "Computing correlation for ips2\n",
      "\n",
      "Computing correlation for ips3\n",
      "\n",
      "Computing correlation for ips4\n",
      "\n",
      "Computing correlation for ips5\n",
      "\n",
      "Computing correlation for spl1\n",
      "\n",
      "Computing correlation for fef\n",
      "\n"
     ]
    }
   ],
   "source": [
    "corr_df_listA_edges = generate_corr_full(subject = 2, roi_list = list_a, S_mat =  S_mat_edges_averaged, print_log = False)"
   ]
  },
  {
   "cell_type": "code",
   "execution_count": 87,
   "id": "f0f0d43a-dd2a-4f6f-8b61-fbf64c0c7840",
   "metadata": {},
   "outputs": [
    {
     "name": "stdout",
     "output_type": "stream",
     "text": [
      "Computing correlation for vo1\n",
      "\n",
      "Computing correlation for vo2\n",
      "\n",
      "Computing correlation for lo1\n",
      "\n",
      "Computing correlation for lo2\n",
      "\n",
      "Computing correlation for phc1\n",
      "\n",
      "Computing correlation for phc2\n",
      "\n"
     ]
    }
   ],
   "source": [
    "corr_df_listB_edges = generate_corr_full(subject = 2, roi_list =list_b,  S_mat = S_mat_edges_averaged, print_log = False)"
   ]
  },
  {
   "cell_type": "code",
   "execution_count": 88,
   "id": "bbc1fc2b-e3d2-4ec9-902a-f1e6c79d8337",
   "metadata": {},
   "outputs": [],
   "source": [
    "corr_dfs_edges = {} \n",
    "\n",
    "corr_dfs_edges['viz'] = corr_df_viz_edges\n",
    "corr_dfs_edges['faces'] = corr_df_faces_edges\n",
    "corr_dfs_edges['words'] = corr_df_words_edges\n",
    "corr_dfs_edges['places']= corr_df_places_edges\n",
    "corr_dfs_edges['bodies']= corr_df_bodies_edges\n",
    "corr_dfs_edges['list_a']= corr_df_listA_edges\n",
    "corr_dfs_edges['list_b']= corr_df_listB_edges\n",
    "\n",
    "pickle.dump(corr_dfs_edges, open(f\"{DATA_PATH}/corr_dictionaries/corr_dfs_edges_subject2.pkl\", \"wb\"))"
   ]
  },
  {
   "cell_type": "markdown",
   "id": "c04b8211-f4f5-4e6e-b63b-5c8628f195e3",
   "metadata": {},
   "source": [
    "## Luminance and Saturation"
   ]
  },
  {
   "cell_type": "code",
   "execution_count": 91,
   "id": "3d7f694a-a92a-4d1f-b3bf-e2d4350aca60",
   "metadata": {},
   "outputs": [
    {
     "name": "stderr",
     "output_type": "stream",
     "text": [
      "100%|██████████| 30000/30000 [00:34<00:00, 864.81it/s] \n",
      "100%|██████████| 30000/30000 [00:34<00:00, 871.76it/s] \n"
     ]
    }
   ],
   "source": [
    "S_mat_saturation_averaged = gen_avg_sal_maps_subjectwise(subject = 2, S_mat_type = 'saturation', img_indices = img_indices_subj2)\n",
    "S_mat_luminance_averaged = gen_avg_sal_maps_subjectwise(subject = 2, S_mat_type = 'luminance', img_indices = img_indices_subj2)"
   ]
  },
  {
   "cell_type": "code",
   "execution_count": 92,
   "id": "04f003ae-d953-430d-a09a-89080301d847",
   "metadata": {},
   "outputs": [
    {
     "name": "stdout",
     "output_type": "stream",
     "text": [
      "Computing correlation for v1\n",
      "\n",
      "Computing correlation for v2\n",
      "\n",
      "Computing correlation for v3\n",
      "\n",
      "Computing correlation for v4\n",
      "\n"
     ]
    }
   ],
   "source": [
    "corr_df_viz_saturation = generate_corr_full(subject =2, roi_list = viz_roi_list, S_mat = S_mat_saturation_averaged, print_log = False)"
   ]
  },
  {
   "cell_type": "code",
   "execution_count": 93,
   "id": "7211e8b4-0b22-47ad-9155-f6417bc25803",
   "metadata": {},
   "outputs": [
    {
     "name": "stdout",
     "output_type": "stream",
     "text": [
      "Computing correlation for v1\n",
      "\n",
      "Computing correlation for v2\n",
      "\n",
      "Computing correlation for v3\n",
      "\n",
      "Computing correlation for v4\n",
      "\n"
     ]
    }
   ],
   "source": [
    "corr_df_viz_luminance = generate_corr_full(subject =2, roi_list = viz_roi_list, S_mat = S_mat_luminance_averaged, print_log = False)"
   ]
  },
  {
   "cell_type": "code",
   "execution_count": 94,
   "id": "2cab13e5-ec33-4253-86c8-caf25817c302",
   "metadata": {},
   "outputs": [
    {
     "name": "stdout",
     "output_type": "stream",
     "text": [
      "Computing correlation for ofa\n",
      "\n",
      "Computing correlation for ffa1\n",
      "\n",
      "Computing correlation for ffa2\n",
      "\n",
      "Computing correlation for atl\n",
      "\n"
     ]
    }
   ],
   "source": [
    "corr_df_faces_saturation = generate_corr_full(subject =2, roi_list = floc_faces_roi_list, S_mat = S_mat_saturation_averaged, print_log = False)\n"
   ]
  },
  {
   "cell_type": "code",
   "execution_count": 95,
   "id": "126c6716-0eb1-4875-b3dd-a16f0208be4c",
   "metadata": {},
   "outputs": [
    {
     "name": "stdout",
     "output_type": "stream",
     "text": [
      "Computing correlation for ofa\n",
      "\n",
      "Computing correlation for ffa1\n",
      "\n",
      "Computing correlation for ffa2\n",
      "\n",
      "Computing correlation for atl\n",
      "\n"
     ]
    }
   ],
   "source": [
    "corr_df_faces_luminance = generate_corr_full(subject =2, roi_list = floc_faces_roi_list, S_mat = S_mat_luminance_averaged, print_log = False)"
   ]
  },
  {
   "cell_type": "code",
   "execution_count": 96,
   "id": "6aacd835-8f5e-4246-912f-8d69d3cdc372",
   "metadata": {},
   "outputs": [
    {
     "name": "stdout",
     "output_type": "stream",
     "text": [
      "Computing correlation for owfa\n",
      "\n",
      "Computing correlation for vwfa_1\n",
      "\n",
      "Computing correlation for vwfa_2\n",
      "\n",
      "Computing correlation for mfs_words\n",
      "\n",
      "Computing correlation for mtl_words\n",
      "\n"
     ]
    }
   ],
   "source": [
    "corr_df_bodies_saturation = generate_corr_full(subject =2, roi_list = floc_bodies_roi_list, S_mat = S_mat_saturation_averaged, print_log = False)\n"
   ]
  },
  {
   "cell_type": "code",
   "execution_count": 97,
   "id": "cc0eee9d-4186-4f77-891b-fdd829f57beb",
   "metadata": {},
   "outputs": [
    {
     "name": "stdout",
     "output_type": "stream",
     "text": [
      "Computing correlation for owfa\n",
      "\n",
      "Computing correlation for vwfa_1\n",
      "\n",
      "Computing correlation for vwfa_2\n",
      "\n",
      "Computing correlation for mfs_words\n",
      "\n",
      "Computing correlation for mtl_words\n",
      "\n"
     ]
    }
   ],
   "source": [
    "corr_df_bodies_luminance = generate_corr_full(subject =2, roi_list = floc_bodies_roi_list, S_mat = S_mat_luminance_averaged, print_log = False)"
   ]
  },
  {
   "cell_type": "code",
   "execution_count": 98,
   "id": "53050c32-85f3-4934-9424-07af6cfc1755",
   "metadata": {},
   "outputs": [
    {
     "name": "stdout",
     "output_type": "stream",
     "text": [
      "Computing correlation for opa\n",
      "\n",
      "Computing correlation for ppa\n",
      "\n",
      "Computing correlation for rsc\n",
      "\n"
     ]
    }
   ],
   "source": [
    "corr_df_places_saturation = generate_corr_full(subject =2, roi_list = floc_places_roi_list, S_mat = S_mat_saturation_averaged, print_log = False)"
   ]
  },
  {
   "cell_type": "code",
   "execution_count": 99,
   "id": "94c450a2-0f0a-48da-b732-d11249678f42",
   "metadata": {},
   "outputs": [
    {
     "name": "stdout",
     "output_type": "stream",
     "text": [
      "Computing correlation for opa\n",
      "\n",
      "Computing correlation for ppa\n",
      "\n",
      "Computing correlation for rsc\n",
      "\n"
     ]
    }
   ],
   "source": [
    "corr_df_places_luminance = generate_corr_full(subject =2, roi_list = floc_places_roi_list, S_mat = S_mat_luminance_averaged, print_log = False)"
   ]
  },
  {
   "cell_type": "code",
   "execution_count": 100,
   "id": "1e0d1429-d2b3-4e0c-afb2-9614592f9dec",
   "metadata": {},
   "outputs": [
    {
     "name": "stdout",
     "output_type": "stream",
     "text": [
      "Computing correlation for eba\n",
      "\n",
      "Computing correlation for fba1\n",
      "\n",
      "fba1 not found, skipping\n",
      "Computing correlation for fba2\n",
      "\n"
     ]
    }
   ],
   "source": [
    "corr_df_words_luminance = generate_corr_full(subject =2, roi_list = floc_words_roi_list, S_mat = S_mat_luminance_averaged, print_log = False)"
   ]
  },
  {
   "cell_type": "code",
   "execution_count": 101,
   "id": "76019e80-875a-4712-aaf7-aa108f588066",
   "metadata": {},
   "outputs": [
    {
     "name": "stdout",
     "output_type": "stream",
     "text": [
      "Computing correlation for eba\n",
      "\n",
      "Computing correlation for fba1\n",
      "\n",
      "fba1 not found, skipping\n",
      "Computing correlation for fba2\n",
      "\n"
     ]
    }
   ],
   "source": [
    "corr_df_words_saturation = generate_corr_full(subject =2, roi_list = floc_words_roi_list, S_mat = S_mat_saturation_averaged, print_log = False)"
   ]
  },
  {
   "cell_type": "code",
   "execution_count": 102,
   "id": "8267befe-563c-47e6-938a-4256d162c0f3",
   "metadata": {},
   "outputs": [
    {
     "name": "stdout",
     "output_type": "stream",
     "text": [
      "Computing correlation for v3a\n",
      "\n",
      "Computing correlation for v3b\n",
      "\n",
      "Computing correlation for ips0\n",
      "\n",
      "Computing correlation for ips1\n",
      "\n",
      "Computing correlation for ips2\n",
      "\n",
      "Computing correlation for ips3\n",
      "\n",
      "Computing correlation for ips4\n",
      "\n",
      "Computing correlation for ips5\n",
      "\n",
      "Computing correlation for spl1\n",
      "\n",
      "Computing correlation for fef\n",
      "\n"
     ]
    }
   ],
   "source": [
    "corr_df_listA_saturation = generate_corr_full(subject =2, roi_list = list_a, S_mat = S_mat_saturation_averaged, print_log = False)"
   ]
  },
  {
   "cell_type": "code",
   "execution_count": 103,
   "id": "9741eee9-1384-4b31-a88e-3c3723316fe8",
   "metadata": {},
   "outputs": [
    {
     "name": "stdout",
     "output_type": "stream",
     "text": [
      "Computing correlation for v3a\n",
      "\n",
      "Computing correlation for v3b\n",
      "\n",
      "Computing correlation for ips0\n",
      "\n",
      "Computing correlation for ips1\n",
      "\n",
      "Computing correlation for ips2\n",
      "\n",
      "Computing correlation for ips3\n",
      "\n",
      "Computing correlation for ips4\n",
      "\n",
      "Computing correlation for ips5\n",
      "\n",
      "Computing correlation for spl1\n",
      "\n",
      "Computing correlation for fef\n",
      "\n"
     ]
    }
   ],
   "source": [
    "corr_df_listA_luminance = generate_corr_full(subject =2, roi_list = list_a, S_mat = S_mat_luminance_averaged, print_log = False)"
   ]
  },
  {
   "cell_type": "code",
   "execution_count": 104,
   "id": "9325fe55-0907-450e-b005-ad9f2ca3b749",
   "metadata": {},
   "outputs": [
    {
     "name": "stdout",
     "output_type": "stream",
     "text": [
      "Computing correlation for vo1\n",
      "\n",
      "Computing correlation for vo2\n",
      "\n",
      "Computing correlation for lo1\n",
      "\n",
      "Computing correlation for lo2\n",
      "\n",
      "Computing correlation for phc1\n",
      "\n",
      "Computing correlation for phc2\n",
      "\n"
     ]
    }
   ],
   "source": [
    "corr_df_listB_saturation = generate_corr_full(subject =2, roi_list = list_b, S_mat = S_mat_saturation_averaged, print_log = False)"
   ]
  },
  {
   "cell_type": "code",
   "execution_count": 106,
   "id": "d14f4cdf-5179-4b6b-bd74-a222719ff1a1",
   "metadata": {},
   "outputs": [
    {
     "name": "stdout",
     "output_type": "stream",
     "text": [
      "Computing correlation for vo1\n",
      "\n",
      "Computing correlation for vo2\n",
      "\n",
      "Computing correlation for lo1\n",
      "\n",
      "Computing correlation for lo2\n",
      "\n",
      "Computing correlation for phc1\n",
      "\n",
      "Computing correlation for phc2\n",
      "\n"
     ]
    }
   ],
   "source": [
    "corr_df_listB_luminance = generate_corr_full(subject =2, roi_list = list_b, S_mat = S_mat_luminance_averaged, print_log = False)"
   ]
  },
  {
   "cell_type": "code",
   "execution_count": 107,
   "id": "6942ea49-64e8-4d4c-afc6-0bed13a93041",
   "metadata": {},
   "outputs": [],
   "source": [
    "corr_dfs_saturation = {} \n",
    "\n",
    "corr_dfs_saturation['viz'] = corr_df_viz_saturation\n",
    "corr_dfs_saturation['faces'] = corr_df_faces_saturation\n",
    "corr_dfs_saturation['words'] = corr_df_words_saturation\n",
    "corr_dfs_saturation['places']= corr_df_places_saturation\n",
    "corr_dfs_saturation['bodies']= corr_df_bodies_saturation\n",
    "corr_dfs_saturation['list_a']= corr_df_listA_saturation\n",
    "corr_dfs_saturation['list_b']= corr_df_listB_saturation\n",
    "\n",
    "pickle.dump(corr_dfs_saturation, open(f\"{DATA_PATH}/corr_dictionaries/corr_dfs_saturation_subject2.pkl\", \"wb\"))"
   ]
  },
  {
   "cell_type": "code",
   "execution_count": 108,
   "id": "283c1112-8892-40b6-a2de-634490c2cacf",
   "metadata": {},
   "outputs": [],
   "source": [
    "corr_dfs_luminance = {} \n",
    "\n",
    "corr_dfs_luminance['viz'] = corr_df_viz_luminance\n",
    "corr_dfs_luminance['faces'] = corr_df_faces_luminance\n",
    "corr_dfs_luminance['words'] = corr_df_words_luminance\n",
    "corr_dfs_luminance['places']= corr_df_places_luminance\n",
    "corr_dfs_luminance['bodies']= corr_df_bodies_luminance\n",
    "corr_dfs_luminance['list_a']= corr_df_listA_luminance\n",
    "corr_dfs_luminance['list_b']= corr_df_listB_luminance\n",
    "\n",
    "pickle.dump(corr_dfs_luminance, open(f\"{DATA_PATH}/corr_dictionaries/corr_dfs_luminance_subject2.pkl\", \"wb\"))"
   ]
  },
  {
   "cell_type": "code",
   "execution_count": 110,
   "id": "18b0e257-2731-4b3d-a751-efa55b885878",
   "metadata": {},
   "outputs": [
    {
     "data": {
      "image/png": "[encoded data removed]",
      "text/plain": [
       "<Figure size 2000x800 with 1 Axes>"
      ]
     },
     "metadata": {},
     "output_type": "display_data"
    }
   ],
   "source": [
    "plt.figure(figsize=(20, 8))\n",
    "\n",
    "plot_corr_violinplot(df = concat_df_with_type(\n",
    "                          df_list = [corr_df_viz, corr_df_viz_edges, corr_df_viz_saturation, corr_df_viz_luminance],\n",
    "                        type_list = [\"deepgaze 2E\", \"edges\", \"saturation\", \"luminance\"]),                   \n",
    "                            title = \"Correlation for Visual ROIs\",\n",
    "                            palette = \"tab10\")"
   ]
  },
  {
   "cell_type": "markdown",
   "id": "e175e836-12c9-4ab2-b74c-a90c9c61345b",
   "metadata": {},
   "source": [
    "## IttiKoch\n"
   ]
  },
  {
   "cell_type": "code",
   "execution_count": 113,
   "id": "ad07c997-7903-425e-ae26-3896e27c5d8b",
   "metadata": {},
   "outputs": [
    {
     "name": "stderr",
     "output_type": "stream",
     "text": [
      " 92%|█████████▏| 27589/30000 [03:19<00:02, 945.23it/s]/gpfs01/bartels/user/hbhatnagar/anaconda3/envs/NSD-Saliency/lib/python3.8/site-packages/numpy/core/fromnumeric.py:3432: RuntimeWarning: Mean of empty slice.\n",
      "  return _methods._mean(a, axis=axis, dtype=dtype,\n",
      "/gpfs01/bartels/user/hbhatnagar/anaconda3/envs/NSD-Saliency/lib/python3.8/site-packages/numpy/core/_methods.py:182: RuntimeWarning: invalid value encountered in divide\n",
      "  ret = um.true_divide(\n",
      "100%|██████████| 30000/30000 [03:19<00:00, 150.48it/s] \n"
     ]
    }
   ],
   "source": [
    "S_mat_ittikoch_averaged  = gen_avg_sal_maps_subjectwise(subject= 2, S_mat_type= 'ittikoch', img_indices=img_indices_subj2)"
   ]
  },
  {
   "cell_type": "code",
   "execution_count": 115,
   "id": "a8c5b3ee-4893-4639-b194-5fa8685bf70b",
   "metadata": {},
   "outputs": [
    {
     "name": "stdout",
     "output_type": "stream",
     "text": [
      "Computing correlation for v1\n",
      "\n",
      "Computing correlation for v2\n",
      "\n",
      "Computing correlation for v3\n",
      "\n",
      "Computing correlation for v4\n",
      "\n"
     ]
    }
   ],
   "source": [
    "corr_df_viz_itti = generate_corr_full(subject = 2, roi_list = viz_roi_list, S_mat = S_mat_ittikoch_averaged, print_log = False)"
   ]
  },
  {
   "cell_type": "code",
   "execution_count": 116,
   "id": "ada1d1e0-9c2c-41a8-b42e-cbe20cc31048",
   "metadata": {},
   "outputs": [
    {
     "name": "stdout",
     "output_type": "stream",
     "text": [
      "Computing correlation for ofa\n",
      "\n",
      "Computing correlation for ffa1\n",
      "\n",
      "Computing correlation for ffa2\n",
      "\n",
      "Computing correlation for atl\n",
      "\n"
     ]
    }
   ],
   "source": [
    "corr_df_faces_itti = generate_corr_full(subject = 2, roi_list = floc_faces_roi_list,S_mat =  S_mat_ittikoch_averaged, print_log = False)"
   ]
  },
  {
   "cell_type": "code",
   "execution_count": 117,
   "id": "fa4297df-268e-436a-8d1f-69b6e1a9babe",
   "metadata": {},
   "outputs": [
    {
     "name": "stdout",
     "output_type": "stream",
     "text": [
      "Computing correlation for owfa\n",
      "\n",
      "Computing correlation for vwfa_1\n",
      "\n",
      "Computing correlation for vwfa_2\n",
      "\n",
      "Computing correlation for mfs_words\n",
      "\n",
      "Computing correlation for mtl_words\n",
      "\n"
     ]
    }
   ],
   "source": [
    "corr_df_bodies_itti = generate_corr_full(subject = 2,roi_list = floc_bodies_roi_list, S_mat = S_mat_ittikoch_averaged, print_log = False)"
   ]
  },
  {
   "cell_type": "code",
   "execution_count": 118,
   "id": "cc58553f-2e93-4b8f-a322-4c0cf09dd5fc",
   "metadata": {},
   "outputs": [
    {
     "name": "stdout",
     "output_type": "stream",
     "text": [
      "Computing correlation for opa\n",
      "\n",
      "Computing correlation for ppa\n",
      "\n",
      "Computing correlation for rsc\n",
      "\n"
     ]
    }
   ],
   "source": [
    "corr_df_places_itti = generate_corr_full(subject = 2,roi_list = floc_places_roi_list,S_mat =  S_mat_ittikoch_averaged, print_log = False)"
   ]
  },
  {
   "cell_type": "code",
   "execution_count": 119,
   "id": "35a3970c-3666-4e69-b8e5-62973bd19f8d",
   "metadata": {},
   "outputs": [
    {
     "name": "stdout",
     "output_type": "stream",
     "text": [
      "Computing correlation for eba\n",
      "\n",
      "Computing correlation for fba1\n",
      "\n",
      "fba1 not found, skipping\n",
      "Computing correlation for fba2\n",
      "\n"
     ]
    }
   ],
   "source": [
    "corr_df_words_itti = generate_corr_full(subject = 2,roi_list = floc_words_roi_list, S_mat = S_mat_ittikoch_averaged, print_log = False)"
   ]
  },
  {
   "cell_type": "code",
   "execution_count": 120,
   "id": "dc7abb01-4dc1-4a68-b8e6-11a3bb263c47",
   "metadata": {},
   "outputs": [
    {
     "name": "stdout",
     "output_type": "stream",
     "text": [
      "Computing correlation for v3a\n",
      "\n",
      "Computing correlation for v3b\n",
      "\n",
      "Computing correlation for ips0\n",
      "\n",
      "Computing correlation for ips1\n",
      "\n",
      "Computing correlation for ips2\n",
      "\n",
      "Computing correlation for ips3\n",
      "\n",
      "Computing correlation for ips4\n",
      "\n",
      "Computing correlation for ips5\n",
      "\n",
      "Computing correlation for spl1\n",
      "\n",
      "Computing correlation for fef\n",
      "\n"
     ]
    }
   ],
   "source": [
    "corr_df_listA_itti = generate_corr_full(subject = 2,roi_list = list_a, S_mat = S_mat_ittikoch_averaged, print_log = False)"
   ]
  },
  {
   "cell_type": "code",
   "execution_count": 121,
   "id": "3ea939cb-c5e4-4e3a-b90f-93581d529545",
   "metadata": {},
   "outputs": [
    {
     "name": "stdout",
     "output_type": "stream",
     "text": [
      "Computing correlation for vo1\n",
      "\n",
      "Computing correlation for vo2\n",
      "\n",
      "Computing correlation for lo1\n",
      "\n",
      "Computing correlation for lo2\n",
      "\n",
      "Computing correlation for phc1\n",
      "\n",
      "Computing correlation for phc2\n",
      "\n"
     ]
    }
   ],
   "source": [
    "corr_df_listB_itti = generate_corr_full(subject = 2,roi_list = list_b,S_mat =  S_mat_ittikoch_averaged, print_log = False)"
   ]
  },
  {
   "cell_type": "code",
   "execution_count": 122,
   "id": "ddef9376-f4db-4c2f-b4ad-12cb18cf8b5f",
   "metadata": {},
   "outputs": [],
   "source": [
    "corr_dfs_ittikoch = {} \n",
    "\n",
    "corr_dfs_ittikoch['viz'] = corr_df_viz_itti\n",
    "corr_dfs_ittikoch['faces'] = corr_df_faces_itti\n",
    "corr_dfs_ittikoch['words'] = corr_df_words_itti\n",
    "corr_dfs_ittikoch['places']= corr_df_places_itti\n",
    "corr_dfs_ittikoch['bodies']= corr_df_bodies_itti\n",
    "corr_dfs_ittikoch['list_a']= corr_df_listA_itti\n",
    "corr_dfs_ittikoch['list_b']= corr_df_listB_itti\n",
    "\n",
    "pickle.dump(corr_dfs_ittikoch, open(f\"{DATA_PATH}/corr_dictionaries/corr_dfs_ittikoch_subject2.pkl\", \"wb\"))"
   ]
  },
  {
   "cell_type": "markdown",
   "id": "d6a22d0f-24a4-481a-b89e-a11ccac12ef3",
   "metadata": {},
   "source": [
    "## ICF and DG1, "
   ]
  },
  {
   "cell_type": "code",
   "execution_count": 124,
   "id": "59977162-a836-407c-9522-19777dc203f7",
   "metadata": {},
   "outputs": [
    {
     "name": "stderr",
     "output_type": "stream",
     "text": [
      " 90%|█████████ | 27093/30000 [00:11<00:00, 6882.24it/s]/gpfs01/bartels/user/hbhatnagar/anaconda3/envs/NSD-Saliency/lib/python3.8/site-packages/numpy/core/fromnumeric.py:3432: RuntimeWarning: Mean of empty slice.\n",
      "  return _methods._mean(a, axis=axis, dtype=dtype,\n",
      "/gpfs01/bartels/user/hbhatnagar/anaconda3/envs/NSD-Saliency/lib/python3.8/site-packages/numpy/core/_methods.py:182: RuntimeWarning: invalid value encountered in divide\n",
      "  ret = um.true_divide(\n",
      "100%|██████████| 30000/30000 [00:12<00:00, 2497.50it/s]\n"
     ]
    }
   ],
   "source": [
    "S_mat_dg1_averaged  = gen_avg_sal_maps_subjectwise(subject= 2, S_mat_type= 'deepgaze1', img_indices=img_indices_subj2)"
   ]
  },
  {
   "cell_type": "code",
   "execution_count": 125,
   "id": "7f8df941-8c19-4547-a14d-21f46452b3c1",
   "metadata": {},
   "outputs": [
    {
     "name": "stdout",
     "output_type": "stream",
     "text": [
      "Computing correlation for vo1\n",
      "\n",
      "Computing correlation for vo2\n",
      "\n",
      "Computing correlation for lo1\n",
      "\n",
      "Computing correlation for lo2\n",
      "\n",
      "Computing correlation for phc1\n",
      "\n",
      "Computing correlation for phc2\n",
      "\n"
     ]
    }
   ],
   "source": [
    "corr_df_listB_itti = generate_corr_full(subject = 2,roi_list = list_b,S_mat =  S_mat_ittikoch_averaged, print_log = False)"
   ]
  },
  {
   "cell_type": "code",
   "execution_count": 126,
   "id": "59e093e2-91d6-471e-bcbe-30196f0030da",
   "metadata": {},
   "outputs": [
    {
     "name": "stdout",
     "output_type": "stream",
     "text": [
      "Computing correlation for v1\n",
      "\n",
      "Computing correlation for v2\n",
      "\n",
      "Computing correlation for v3\n",
      "\n",
      "Computing correlation for v4\n",
      "\n"
     ]
    }
   ],
   "source": [
    "corr_df_viz_dg1 = generate_corr_full(subject = 2, roi_list = viz_roi_list,S_mat = S_mat_dg1_averaged, print_log = False)"
   ]
  },
  {
   "cell_type": "code",
   "execution_count": 127,
   "id": "d3ee7003-fc85-44b2-9036-66e816516525",
   "metadata": {},
   "outputs": [
    {
     "name": "stdout",
     "output_type": "stream",
     "text": [
      "Computing correlation for ofa\n",
      "\n",
      "Computing correlation for ffa1\n",
      "\n",
      "Computing correlation for ffa2\n",
      "\n",
      "Computing correlation for atl\n",
      "\n"
     ]
    }
   ],
   "source": [
    "corr_df_faces_dg1 = generate_corr_full(subject = 2,roi_list = floc_faces_roi_list,S_mat = S_mat_dg1_averaged, print_log = False)"
   ]
  },
  {
   "cell_type": "code",
   "execution_count": 128,
   "id": "efd1b0a8-7626-419f-9600-64d148ba9a5f",
   "metadata": {},
   "outputs": [
    {
     "name": "stdout",
     "output_type": "stream",
     "text": [
      "Computing correlation for owfa\n",
      "\n",
      "Computing correlation for vwfa_1\n",
      "\n",
      "Computing correlation for vwfa_2\n",
      "\n",
      "Computing correlation for mfs_words\n",
      "\n",
      "Computing correlation for mtl_words\n",
      "\n"
     ]
    }
   ],
   "source": [
    "corr_df_bodies_dg1 = generate_corr_full(subject = 2,roi_list = floc_bodies_roi_list,S_mat = S_mat_dg1_averaged, print_log = False)"
   ]
  },
  {
   "cell_type": "code",
   "execution_count": 129,
   "id": "ddb1e12d-a0ef-467d-a26d-636779751a8e",
   "metadata": {},
   "outputs": [
    {
     "name": "stdout",
     "output_type": "stream",
     "text": [
      "Computing correlation for opa\n",
      "\n",
      "Computing correlation for ppa\n",
      "\n",
      "Computing correlation for rsc\n",
      "\n"
     ]
    }
   ],
   "source": [
    "corr_df_places_dg1 = generate_corr_full(subject = 2,roi_list = floc_places_roi_list,S_mat = S_mat_dg1_averaged, print_log = False)"
   ]
  },
  {
   "cell_type": "code",
   "execution_count": 130,
   "id": "ebd23e2b-a717-4738-9a0f-9b748150f3a2",
   "metadata": {},
   "outputs": [
    {
     "name": "stdout",
     "output_type": "stream",
     "text": [
      "Computing correlation for eba\n",
      "\n",
      "Computing correlation for fba1\n",
      "\n",
      "fba1 not found, skipping\n",
      "Computing correlation for fba2\n",
      "\n"
     ]
    }
   ],
   "source": [
    "corr_df_words_dg1 = generate_corr_full(subject = 2,roi_list = floc_words_roi_list,S_mat = S_mat_dg1_averaged, print_log = False)"
   ]
  },
  {
   "cell_type": "code",
   "execution_count": 131,
   "id": "8450f21a-a31b-439a-8655-a6fc662d9805",
   "metadata": {},
   "outputs": [
    {
     "name": "stdout",
     "output_type": "stream",
     "text": [
      "Computing correlation for v3a\n",
      "\n",
      "Computing correlation for v3b\n",
      "\n",
      "Computing correlation for ips0\n",
      "\n",
      "Computing correlation for ips1\n",
      "\n",
      "Computing correlation for ips2\n",
      "\n",
      "Computing correlation for ips3\n",
      "\n",
      "Computing correlation for ips4\n",
      "\n",
      "Computing correlation for ips5\n",
      "\n",
      "Computing correlation for spl1\n",
      "\n",
      "Computing correlation for fef\n",
      "\n"
     ]
    }
   ],
   "source": [
    "corr_df_listA_dg1 = generate_corr_full(subject = 2,roi_list = list_a, S_mat = S_mat_dg1_averaged, print_log = False)"
   ]
  },
  {
   "cell_type": "code",
   "execution_count": 132,
   "id": "66d6813a-8a38-44f6-b4e9-2aaf29aa2ff9",
   "metadata": {},
   "outputs": [
    {
     "name": "stdout",
     "output_type": "stream",
     "text": [
      "Computing correlation for vo1\n",
      "\n",
      "Computing correlation for vo2\n",
      "\n",
      "Computing correlation for lo1\n",
      "\n",
      "Computing correlation for lo2\n",
      "\n",
      "Computing correlation for phc1\n",
      "\n",
      "Computing correlation for phc2\n",
      "\n"
     ]
    }
   ],
   "source": [
    "corr_df_listB_dg1 = generate_corr_full(subject = 2,roi_list = list_b,S_mat =  S_mat_dg1_averaged, print_log = False)"
   ]
  },
  {
   "cell_type": "code",
   "execution_count": 133,
   "id": "3e1e9fa3-ba88-446c-a507-b9775dd183e0",
   "metadata": {},
   "outputs": [],
   "source": [
    "corr_dfs_dg1 = {} \n",
    "\n",
    "corr_dfs_dg1['viz'] = corr_df_viz_dg1\n",
    "corr_dfs_dg1['faces'] = corr_df_faces_dg1\n",
    "corr_dfs_dg1['words'] = corr_df_words_dg1\n",
    "corr_dfs_dg1['places']= corr_df_places_dg1\n",
    "corr_dfs_dg1['bodies']= corr_df_bodies_dg1\n",
    "corr_dfs_dg1['list_a']= corr_df_listA_dg1\n",
    "corr_dfs_dg1['list_b']= corr_df_listB_dg1\n",
    "\n",
    "pickle.dump(corr_dfs_dg1, open(f\"{DATA_PATH}/corr_dictionaries/corr_dfs_dg1_subject2.pkl\", \"wb\"))"
   ]
  },
  {
   "cell_type": "markdown",
   "id": "0e9553d9-0f75-409e-a4c1-df4b83b7d970",
   "metadata": {},
   "source": [
    "# ICF"
   ]
  },
  {
   "cell_type": "code",
   "execution_count": 134,
   "id": "dd522962-f33d-4482-baa6-4befd8187224",
   "metadata": {},
   "outputs": [
    {
     "name": "stderr",
     "output_type": "stream",
     "text": [
      " 92%|█████████▏| 27622/30000 [00:30<00:00, 3375.59it/s]/gpfs01/bartels/user/hbhatnagar/anaconda3/envs/NSD-Saliency/lib/python3.8/site-packages/numpy/core/fromnumeric.py:3432: RuntimeWarning: Mean of empty slice.\n",
      "  return _methods._mean(a, axis=axis, dtype=dtype,\n",
      "/gpfs01/bartels/user/hbhatnagar/anaconda3/envs/NSD-Saliency/lib/python3.8/site-packages/numpy/core/_methods.py:182: RuntimeWarning: invalid value encountered in divide\n",
      "  ret = um.true_divide(\n",
      "100%|██████████| 30000/30000 [00:30<00:00, 984.56it/s] \n"
     ]
    }
   ],
   "source": [
    "S_mat_icf_averaged  = gen_avg_sal_maps_subjectwise(subject= 2, S_mat_type= 'icf', img_indices=img_indices_subj2)"
   ]
  },
  {
   "cell_type": "code",
   "execution_count": 135,
   "id": "110dbf8e-f0bd-4b3a-84fc-2c1590950fcc",
   "metadata": {},
   "outputs": [
    {
     "name": "stdout",
     "output_type": "stream",
     "text": [
      "Computing correlation for v1\n",
      "\n",
      "Computing correlation for v2\n",
      "\n",
      "Computing correlation for v3\n",
      "\n",
      "Computing correlation for v4\n",
      "\n"
     ]
    }
   ],
   "source": [
    "corr_df_viz_icf = generate_corr_full(subject = 2, roi_list = viz_roi_list,S_mat =S_mat_icf_averaged, print_log = False)"
   ]
  },
  {
   "cell_type": "code",
   "execution_count": 136,
   "id": "0a689259-7cbe-4a65-97d0-d50d2b00e00e",
   "metadata": {},
   "outputs": [
    {
     "name": "stdout",
     "output_type": "stream",
     "text": [
      "Computing correlation for ofa\n",
      "\n",
      "Computing correlation for ffa1\n",
      "\n",
      "Computing correlation for ffa2\n",
      "\n",
      "Computing correlation for atl\n",
      "\n"
     ]
    }
   ],
   "source": [
    "corr_df_faces_icf = generate_corr_full(subject = 2, roi_list = floc_faces_roi_list, S_mat =S_mat_icf_averaged, print_log = False)"
   ]
  },
  {
   "cell_type": "code",
   "execution_count": 137,
   "id": "5e06f582-1717-4110-805d-03750cac5af4",
   "metadata": {},
   "outputs": [
    {
     "name": "stdout",
     "output_type": "stream",
     "text": [
      "Computing correlation for owfa\n",
      "\n",
      "Computing correlation for vwfa_1\n",
      "\n",
      "Computing correlation for vwfa_2\n",
      "\n",
      "Computing correlation for mfs_words\n",
      "\n",
      "Computing correlation for mtl_words\n",
      "\n"
     ]
    }
   ],
   "source": [
    "corr_df_bodies_icf = generate_corr_full(subject = 2, roi_list = floc_bodies_roi_list, S_mat =S_mat_icf_averaged, print_log = False)"
   ]
  },
  {
   "cell_type": "code",
   "execution_count": 138,
   "id": "ca64f97c-9e74-48ff-b698-55776bef56c4",
   "metadata": {},
   "outputs": [
    {
     "name": "stdout",
     "output_type": "stream",
     "text": [
      "Computing correlation for opa\n",
      "\n",
      "Computing correlation for ppa\n",
      "\n",
      "Computing correlation for rsc\n",
      "\n"
     ]
    }
   ],
   "source": [
    "corr_df_places_icf = generate_corr_full(subject = 2, roi_list = floc_places_roi_list, S_mat =S_mat_icf_averaged, print_log = False)"
   ]
  },
  {
   "cell_type": "code",
   "execution_count": 139,
   "id": "1bab607d-139b-452a-80de-4221451f3112",
   "metadata": {},
   "outputs": [
    {
     "name": "stdout",
     "output_type": "stream",
     "text": [
      "Computing correlation for eba\n",
      "\n",
      "Computing correlation for fba1\n",
      "\n",
      "fba1 not found, skipping\n",
      "Computing correlation for fba2\n",
      "\n"
     ]
    }
   ],
   "source": [
    "corr_df_words_icf = generate_corr_full(subject = 2, roi_list = floc_words_roi_list, S_mat =S_mat_icf_averaged, print_log = False)"
   ]
  },
  {
   "cell_type": "code",
   "execution_count": 140,
   "id": "a6e27c1c-36a6-4150-911e-4a1368451e92",
   "metadata": {},
   "outputs": [
    {
     "name": "stdout",
     "output_type": "stream",
     "text": [
      "Computing correlation for v3a\n",
      "\n",
      "Computing correlation for v3b\n",
      "\n",
      "Computing correlation for ips0\n",
      "\n",
      "Computing correlation for ips1\n",
      "\n",
      "Computing correlation for ips2\n",
      "\n",
      "Computing correlation for ips3\n",
      "\n",
      "Computing correlation for ips4\n",
      "\n",
      "Computing correlation for ips5\n",
      "\n",
      "Computing correlation for spl1\n",
      "\n",
      "Computing correlation for fef\n",
      "\n"
     ]
    }
   ],
   "source": [
    "corr_df_listA_icf = generate_corr_full(subject = 2, roi_list = list_a,  S_mat = S_mat_icf_averaged, print_log = False)"
   ]
  },
  {
   "cell_type": "code",
   "execution_count": 141,
   "id": "0af09652-4767-4c41-a569-e7f6de2ee0a8",
   "metadata": {},
   "outputs": [
    {
     "name": "stdout",
     "output_type": "stream",
     "text": [
      "Computing correlation for vo1\n",
      "\n",
      "Computing correlation for vo2\n",
      "\n",
      "Computing correlation for lo1\n",
      "\n",
      "Computing correlation for lo2\n",
      "\n",
      "Computing correlation for phc1\n",
      "\n",
      "Computing correlation for phc2\n",
      "\n"
     ]
    }
   ],
   "source": [
    "corr_df_listB_icf = generate_corr_full(subject = 2, roi_list = list_b, S_mat = S_mat_icf_averaged, print_log = False)"
   ]
  },
  {
   "cell_type": "code",
   "execution_count": 142,
   "id": "e96c37bd-8af9-4216-a460-b2998809e96e",
   "metadata": {},
   "outputs": [],
   "source": [
    "corr_dfs_icf = {} \n",
    "\n",
    "corr_dfs_icf['viz'] = corr_df_viz_icf\n",
    "corr_dfs_icf['faces'] = corr_df_faces_icf\n",
    "corr_dfs_icf['words'] = corr_df_words_icf\n",
    "corr_dfs_icf['places']= corr_df_places_icf\n",
    "corr_dfs_icf['bodies']= corr_df_bodies_icf\n",
    "corr_dfs_icf['list_a']= corr_df_listA_icf\n",
    "corr_dfs_icf['list_b']= corr_df_listB_icf\n",
    "\n",
    "pickle.dump(corr_dfs_icf, open(f\"{DATA_PATH}/corr_dictionaries/corr_dfs_icf_subject2.pkl\", \"wb\"))"
   ]
  },
  {
   "cell_type": "code",
   "execution_count": null,
   "id": "89536447-c0ef-4a52-b231-ea48005d2dad",
   "metadata": {},
   "outputs": [],
   "source": []
  },
  {
   "cell_type": "markdown",
   "id": "7104d417-d130-4d7c-8db0-bb3c7ea287c7",
   "metadata": {},
   "source": [
    "# DG2"
   ]
  },
  {
   "cell_type": "code",
   "execution_count": 143,
   "id": "75333358-af37-4f6f-8d44-9c082cdbf6aa",
   "metadata": {},
   "outputs": [
    {
     "name": "stderr",
     "output_type": "stream",
     "text": [
      " 92%|█████████▏| 27679/30000 [00:31<00:00, 3450.06it/s]/gpfs01/bartels/user/hbhatnagar/anaconda3/envs/NSD-Saliency/lib/python3.8/site-packages/numpy/core/fromnumeric.py:3432: RuntimeWarning: Mean of empty slice.\n",
      "  return _methods._mean(a, axis=axis, dtype=dtype,\n",
      "/gpfs01/bartels/user/hbhatnagar/anaconda3/envs/NSD-Saliency/lib/python3.8/site-packages/numpy/core/_methods.py:182: RuntimeWarning: invalid value encountered in divide\n",
      "  ret = um.true_divide(\n",
      "100%|██████████| 30000/30000 [00:31<00:00, 944.29it/s] \n"
     ]
    }
   ],
   "source": [
    "S_mat_dg2_averaged  = gen_avg_sal_maps_subjectwise(subject= 2, S_mat_type= 'deepgaze2', img_indices=img_indices_subj2)"
   ]
  },
  {
   "cell_type": "code",
   "execution_count": 144,
   "id": "038a6588-65e4-4035-a5c6-7c57a5b4db30",
   "metadata": {},
   "outputs": [
    {
     "name": "stdout",
     "output_type": "stream",
     "text": [
      "Computing correlation for v1\n",
      "\n",
      "Computing correlation for v2\n",
      "\n",
      "Computing correlation for v3\n",
      "\n",
      "Computing correlation for v4\n",
      "\n"
     ]
    }
   ],
   "source": [
    "corr_df_viz_dg2 = generate_corr_full(subject= 2, roi_list = viz_roi_list,S_mat = S_mat_dg2_averaged, print_log = False)"
   ]
  },
  {
   "cell_type": "code",
   "execution_count": 145,
   "id": "1a81fbb0-7a85-4d03-a8aa-de00caad4945",
   "metadata": {},
   "outputs": [
    {
     "name": "stdout",
     "output_type": "stream",
     "text": [
      "Computing correlation for ofa\n",
      "\n",
      "Computing correlation for ffa1\n",
      "\n",
      "Computing correlation for ffa2\n",
      "\n",
      "Computing correlation for atl\n",
      "\n"
     ]
    }
   ],
   "source": [
    "corr_df_faces_dg2 = generate_corr_full(subject = 2,roi_list = floc_faces_roi_list,S_mat =S_mat_dg2_averaged, print_log = False)"
   ]
  },
  {
   "cell_type": "code",
   "execution_count": 146,
   "id": "51afa7d2-702c-4f1f-b190-84ba682729da",
   "metadata": {},
   "outputs": [
    {
     "name": "stdout",
     "output_type": "stream",
     "text": [
      "Computing correlation for owfa\n",
      "\n",
      "Computing correlation for vwfa_1\n",
      "\n",
      "Computing correlation for vwfa_2\n",
      "\n",
      "Computing correlation for mfs_words\n",
      "\n",
      "Computing correlation for mtl_words\n",
      "\n"
     ]
    }
   ],
   "source": [
    "corr_df_bodies_dg2 = generate_corr_full(subject = 2,roi_list = floc_bodies_roi_list,S_mat =S_mat_dg2_averaged, print_log = False)"
   ]
  },
  {
   "cell_type": "code",
   "execution_count": 147,
   "id": "37efa83d-e014-432f-8ab8-0f0d785f72d1",
   "metadata": {},
   "outputs": [
    {
     "name": "stdout",
     "output_type": "stream",
     "text": [
      "Computing correlation for opa\n",
      "\n",
      "Computing correlation for ppa\n",
      "\n",
      "Computing correlation for rsc\n",
      "\n"
     ]
    }
   ],
   "source": [
    "corr_df_places_dg2 = generate_corr_full(subject = 2,roi_list =floc_places_roi_list,S_mat =S_mat_dg2_averaged, print_log = False)"
   ]
  },
  {
   "cell_type": "code",
   "execution_count": 148,
   "id": "2d7a6e4c-6d7d-4ba1-bb75-64d12ad9ec9c",
   "metadata": {},
   "outputs": [
    {
     "name": "stdout",
     "output_type": "stream",
     "text": [
      "Computing correlation for eba\n",
      "\n",
      "Computing correlation for fba1\n",
      "\n",
      "fba1 not found, skipping\n",
      "Computing correlation for fba2\n",
      "\n"
     ]
    }
   ],
   "source": [
    "corr_df_words_dg2 = generate_corr_full(subject = 2,roi_list =floc_words_roi_list,S_mat =S_mat_dg2_averaged, print_log = False)"
   ]
  },
  {
   "cell_type": "code",
   "execution_count": 149,
   "id": "91796541-ea75-4d63-97e8-00e17b12d975",
   "metadata": {},
   "outputs": [
    {
     "name": "stdout",
     "output_type": "stream",
     "text": [
      "Computing correlation for v3a\n",
      "\n",
      "Computing correlation for v3b\n",
      "\n",
      "Computing correlation for ips0\n",
      "\n",
      "Computing correlation for ips1\n",
      "\n",
      "Computing correlation for ips2\n",
      "\n",
      "Computing correlation for ips3\n",
      "\n",
      "Computing correlation for ips4\n",
      "\n",
      "Computing correlation for ips5\n",
      "\n",
      "Computing correlation for spl1\n",
      "\n",
      "Computing correlation for fef\n",
      "\n"
     ]
    }
   ],
   "source": [
    "corr_df_listA_dg2 = generate_corr_full(subject = 2,roi_list =list_a, S_mat =S_mat_dg2_averaged, print_log = False)"
   ]
  },
  {
   "cell_type": "code",
   "execution_count": 150,
   "id": "8282fe4a-83e7-484a-88ca-300c38d836ce",
   "metadata": {},
   "outputs": [
    {
     "name": "stdout",
     "output_type": "stream",
     "text": [
      "Computing correlation for vo1\n",
      "\n",
      "Computing correlation for vo2\n",
      "\n",
      "Computing correlation for lo1\n",
      "\n",
      "Computing correlation for lo2\n",
      "\n",
      "Computing correlation for phc1\n",
      "\n",
      "Computing correlation for phc2\n",
      "\n"
     ]
    }
   ],
   "source": [
    "corr_df_listB_dg2 = generate_corr_full(subject = 2,roi_list = list_b, S_mat =S_mat_dg2_averaged, print_log = False)"
   ]
  },
  {
   "cell_type": "code",
   "execution_count": 151,
   "id": "9829a82c-f386-4b88-9d1d-6ab9644f6331",
   "metadata": {},
   "outputs": [],
   "source": [
    "corr_dfs_dg2 = {} \n",
    "\n",
    "corr_dfs_dg2['viz'] = corr_df_viz_dg2\n",
    "corr_dfs_dg2['faces'] = corr_df_faces_dg2\n",
    "corr_dfs_dg2['words'] = corr_df_words_dg2\n",
    "corr_dfs_dg2['places']= corr_df_places_dg2\n",
    "corr_dfs_dg2['bodies']= corr_df_bodies_dg2\n",
    "corr_dfs_dg2['list_a']= corr_df_listA_dg2\n",
    "corr_dfs_dg2['list_b']= corr_df_listB_dg2\n",
    "\n",
    "pickle.dump(corr_dfs_dg2, open(f\"{DATA_PATH}/corr_dictionaries/corr_dfs_dg2_subject2.pkl\", \"wb\"))"
   ]
  },
  {
   "cell_type": "code",
   "execution_count": null,
   "id": "c1d9f739-31d1-4578-8610-5199a3d41092",
   "metadata": {},
   "outputs": [],
   "source": []
  },
  {
   "cell_type": "markdown",
   "id": "feecc3a9-9ee2-4b5b-9855-6ad5554ab5a0",
   "metadata": {},
   "source": [
    "# ResNet Stage 4 "
   ]
  },
  {
   "cell_type": "code",
   "execution_count": 153,
   "id": "56d49a08-7ff2-4dc7-898a-99fe6ec34a18",
   "metadata": {},
   "outputs": [
    {
     "name": "stderr",
     "output_type": "stream",
     "text": [
      " 91%|█████████ | 27300/30000 [00:30<00:00, 3034.83it/s]/gpfs01/bartels/user/hbhatnagar/anaconda3/envs/NSD-Saliency/lib/python3.8/site-packages/numpy/core/fromnumeric.py:3432: RuntimeWarning: Mean of empty slice.\n",
      "  return _methods._mean(a, axis=axis, dtype=dtype,\n",
      "/gpfs01/bartels/user/hbhatnagar/anaconda3/envs/NSD-Saliency/lib/python3.8/site-packages/numpy/core/_methods.py:182: RuntimeWarning: invalid value encountered in divide\n",
      "  ret = um.true_divide(\n",
      "100%|██████████| 30000/30000 [00:30<00:00, 970.18it/s] \n"
     ]
    }
   ],
   "source": [
    "S_mat_stage4_averaged = gen_avg_sal_maps_subjectwise(subject= 2, S_mat_type= 'resnet-4',img_indices=img_indices_subj2 )"
   ]
  },
  {
   "cell_type": "code",
   "execution_count": 154,
   "id": "c9fca4de-9cd9-4629-86b7-6eed919a8f21",
   "metadata": {},
   "outputs": [
    {
     "name": "stdout",
     "output_type": "stream",
     "text": [
      "Computing correlation for v1\n",
      "\n",
      "Computing correlation for v2\n",
      "\n",
      "Computing correlation for v3\n",
      "\n",
      "Computing correlation for v4\n",
      "\n"
     ]
    }
   ],
   "source": [
    "corr_df_viz_stage4 = generate_corr_full(subject = 2, roi_list = viz_roi_list,S_mat = S_mat_stage4_averaged, print_log = False)"
   ]
  },
  {
   "cell_type": "code",
   "execution_count": 155,
   "id": "a28585cd-a963-4d1a-9576-a61b2de0c47a",
   "metadata": {},
   "outputs": [
    {
     "name": "stdout",
     "output_type": "stream",
     "text": [
      "Computing correlation for ofa\n",
      "\n",
      "Computing correlation for ffa1\n",
      "\n",
      "Computing correlation for ffa2\n",
      "\n",
      "Computing correlation for atl\n",
      "\n"
     ]
    }
   ],
   "source": [
    "corr_df_faces_stage4 = generate_corr_full(subject = 2, roi_list = floc_faces_roi_list,S_mat = S_mat_stage4_averaged, print_log = False)"
   ]
  },
  {
   "cell_type": "code",
   "execution_count": 156,
   "id": "c7a2a727-e318-4181-a081-43123202669c",
   "metadata": {},
   "outputs": [
    {
     "name": "stdout",
     "output_type": "stream",
     "text": [
      "Computing correlation for owfa\n",
      "\n",
      "Computing correlation for vwfa_1\n",
      "\n",
      "Computing correlation for vwfa_2\n",
      "\n",
      "Computing correlation for mfs_words\n",
      "\n",
      "Computing correlation for mtl_words\n",
      "\n"
     ]
    }
   ],
   "source": [
    "corr_df_bodies_stage4 = generate_corr_full(subject = 2,roi_list =  floc_bodies_roi_list,S_mat = S_mat_stage4_averaged, print_log = False)"
   ]
  },
  {
   "cell_type": "code",
   "execution_count": 157,
   "id": "627d4ade-d518-438c-9682-c0bd12228062",
   "metadata": {},
   "outputs": [
    {
     "name": "stdout",
     "output_type": "stream",
     "text": [
      "Computing correlation for opa\n",
      "\n",
      "Computing correlation for ppa\n",
      "\n",
      "Computing correlation for rsc\n",
      "\n"
     ]
    }
   ],
   "source": [
    "corr_df_places_stage4 = generate_corr_full(subject = 2,roi_list = floc_places_roi_list,S_mat = S_mat_stage4_averaged, print_log = False)"
   ]
  },
  {
   "cell_type": "code",
   "execution_count": 158,
   "id": "b9689daf-63e5-4ef5-9707-163db0b60b5d",
   "metadata": {},
   "outputs": [
    {
     "name": "stdout",
     "output_type": "stream",
     "text": [
      "Computing correlation for eba\n",
      "\n",
      "Computing correlation for fba1\n",
      "\n",
      "fba1 not found, skipping\n",
      "Computing correlation for fba2\n",
      "\n"
     ]
    }
   ],
   "source": [
    "corr_df_words_stage4 = generate_corr_full(subject = 2,roi_list = floc_words_roi_list,S_mat = S_mat_stage4_averaged, print_log = False)"
   ]
  },
  {
   "cell_type": "code",
   "execution_count": 159,
   "id": "577b0354-54d1-43d7-8617-3e15074188bc",
   "metadata": {},
   "outputs": [
    {
     "name": "stdout",
     "output_type": "stream",
     "text": [
      "Computing correlation for v3a\n",
      "\n",
      "Computing correlation for v3b\n",
      "\n",
      "Computing correlation for ips0\n",
      "\n",
      "Computing correlation for ips1\n",
      "\n",
      "Computing correlation for ips2\n",
      "\n",
      "Computing correlation for ips3\n",
      "\n",
      "Computing correlation for ips4\n",
      "\n",
      "Computing correlation for ips5\n",
      "\n",
      "Computing correlation for spl1\n",
      "\n",
      "Computing correlation for fef\n",
      "\n"
     ]
    }
   ],
   "source": [
    "corr_df_listA_stage4 = generate_corr_full(subject = 2,roi_list = list_a, S_mat = S_mat_stage4_averaged, print_log = False)"
   ]
  },
  {
   "cell_type": "code",
   "execution_count": 160,
   "id": "b74c1701-44a1-4f3b-a33c-51b6fe74a480",
   "metadata": {},
   "outputs": [
    {
     "name": "stdout",
     "output_type": "stream",
     "text": [
      "Computing correlation for vo1\n",
      "\n",
      "Computing correlation for vo2\n",
      "\n",
      "Computing correlation for lo1\n",
      "\n",
      "Computing correlation for lo2\n",
      "\n",
      "Computing correlation for phc1\n",
      "\n",
      "Computing correlation for phc2\n",
      "\n"
     ]
    }
   ],
   "source": [
    "corr_df_listB_stage4 = generate_corr_full(subject = 2,roi_list = list_b, S_mat = S_mat_stage4_averaged, print_log = False)"
   ]
  },
  {
   "cell_type": "code",
   "execution_count": 161,
   "id": "4e144c70-cbee-4a06-a258-47ca4679a058",
   "metadata": {},
   "outputs": [],
   "source": [
    "corr_dfs_stage4 = {} \n",
    "\n",
    "corr_dfs_stage4['viz'] = corr_df_viz_stage4\n",
    "corr_dfs_stage4['faces'] = corr_df_faces_stage4\n",
    "corr_dfs_stage4['words'] = corr_df_words_stage4\n",
    "corr_dfs_stage4['places']= corr_df_places_stage4\n",
    "corr_dfs_stage4['bodies']= corr_df_bodies_stage4\n",
    "corr_dfs_stage4['list_a']= corr_df_listA_stage4\n",
    "corr_dfs_stage4['list_b']= corr_df_listB_stage4\n",
    "\n",
    "pickle.dump(corr_dfs_stage4, open(f\"{DATA_PATH}/corr_dictionaries/corr_dfs_stage4_subject2.pkl\", \"wb\"))"
   ]
  },
  {
   "cell_type": "markdown",
   "id": "85033399-8fb0-4b4e-a15c-632f15c4744c",
   "metadata": {},
   "source": [
    "# GBVS "
   ]
  },
  {
   "cell_type": "code",
   "execution_count": null,
   "id": "2a01ae7d-6876-4573-8dff-8938e212bb81",
   "metadata": {},
   "outputs": [
    {
     "name": "stderr",
     "output_type": "stream",
     "text": [
      " 50%|████▉     | 14973/30000 [02:34<01:25, 175.82it/s]"
     ]
    }
   ],
   "source": [
    "S_mat_gbvs_averaged = gen_avg_sal_maps_subjectwise(subject= 2, S_mat_type= 'gbvs',img_indices=img_indices_subj2 )"
   ]
  },
  {
   "cell_type": "code",
   "execution_count": 164,
   "id": "64154f64-dfb2-4807-8c2f-3196b106f8fc",
   "metadata": {},
   "outputs": [
    {
     "name": "stdout",
     "output_type": "stream",
     "text": [
      "Computing correlation for v2\n",
      "\n",
      "Computing correlation for v3\n",
      "\n",
      "Computing correlation for v4\n",
      "\n"
     ]
    }
   ],
   "source": [
    "corr_df_viz_gbvs = generate_corr_full(subject = 2, roi_list = viz_roi_list, S_mat = S_mat_gbvs_averaged, print_log = False)\n"
   ]
  },
  {
   "cell_type": "code",
   "execution_count": 165,
   "id": "cd220a93-ac80-4598-9843-bc5e8fe5416b",
   "metadata": {},
   "outputs": [
    {
     "name": "stdout",
     "output_type": "stream",
     "text": [
      "Computing correlation for ofa\n",
      "\n",
      "Computing correlation for ffa1\n",
      "\n",
      "Computing correlation for ffa2\n",
      "\n",
      "Computing correlation for atl\n",
      "\n"
     ]
    }
   ],
   "source": [
    "corr_df_faces_gbvs = generate_corr_full(subject = 2, roi_list = floc_faces_roi_list,S_mat =S_mat_gbvs_averaged, print_log = False)\n"
   ]
  },
  {
   "cell_type": "code",
   "execution_count": 166,
   "id": "938a1855-20f7-4d35-b194-668876ed4b36",
   "metadata": {},
   "outputs": [
    {
     "name": "stdout",
     "output_type": "stream",
     "text": [
      "Computing correlation for owfa\n",
      "\n",
      "Computing correlation for vwfa_1\n",
      "\n",
      "Computing correlation for vwfa_2\n",
      "\n",
      "Computing correlation for mfs_words\n",
      "\n",
      "Computing correlation for mtl_words\n",
      "\n"
     ]
    }
   ],
   "source": [
    "corr_df_bodies_gbvs = generate_corr_full(subject = 2,roi_list = floc_bodies_roi_list,S_mat =S_mat_gbvs_averaged, print_log = False)"
   ]
  },
  {
   "cell_type": "code",
   "execution_count": 167,
   "id": "b62b1545-acc6-47a3-a7a3-06efb9acb695",
   "metadata": {},
   "outputs": [
    {
     "name": "stdout",
     "output_type": "stream",
     "text": [
      "Computing correlation for opa\n",
      "\n",
      "Computing correlation for ppa\n",
      "\n",
      "Computing correlation for rsc\n",
      "\n"
     ]
    }
   ],
   "source": [
    "corr_df_places_gbvs = generate_corr_full(subject = 2,roi_list = floc_places_roi_list,S_mat =S_mat_gbvs_averaged, print_log = False)"
   ]
  },
  {
   "cell_type": "code",
   "execution_count": 168,
   "id": "1d6ffbcd-4554-4cb9-9d5c-10635cbab042",
   "metadata": {},
   "outputs": [
    {
     "name": "stdout",
     "output_type": "stream",
     "text": [
      "Computing correlation for eba\n",
      "\n",
      "Computing correlation for fba1\n",
      "\n",
      "fba1 not found, skipping\n",
      "Computing correlation for fba2\n",
      "\n"
     ]
    }
   ],
   "source": [
    "corr_df_words_gbvs = generate_corr_full(subject = 2,roi_list = floc_words_roi_list,S_mat =S_mat_gbvs_averaged, print_log = False)"
   ]
  },
  {
   "cell_type": "code",
   "execution_count": 169,
   "id": "a4bcf432-8812-41b8-ab93-2b6b7e0c29b5",
   "metadata": {},
   "outputs": [
    {
     "name": "stdout",
     "output_type": "stream",
     "text": [
      "Computing correlation for v3a\n",
      "\n",
      "Computing correlation for v3b\n",
      "\n",
      "Computing correlation for ips0\n",
      "\n",
      "Computing correlation for ips1\n",
      "\n",
      "Computing correlation for ips2\n",
      "\n",
      "Computing correlation for ips3\n",
      "\n",
      "Computing correlation for ips4\n",
      "\n",
      "Computing correlation for ips5\n",
      "\n",
      "Computing correlation for spl1\n",
      "\n",
      "Computing correlation for fef\n",
      "\n"
     ]
    }
   ],
   "source": [
    "corr_df_listA_gbvs = generate_corr_full(subject = 2,roi_list = list_a,S_mat = S_mat_gbvs_averaged, print_log = False)"
   ]
  },
  {
   "cell_type": "code",
   "execution_count": 170,
   "id": "a027e9e8-da27-49ea-8718-4b511495f53f",
   "metadata": {},
   "outputs": [
    {
     "name": "stdout",
     "output_type": "stream",
     "text": [
      "Computing correlation for vo1\n",
      "\n",
      "Computing correlation for vo2\n",
      "\n",
      "Computing correlation for lo1\n",
      "\n",
      "Computing correlation for lo2\n",
      "\n",
      "Computing correlation for phc1\n",
      "\n",
      "Computing correlation for phc2\n",
      "\n"
     ]
    }
   ],
   "source": [
    "corr_df_listB_gbvs = generate_corr_full(subject = 2,roi_list = list_b, S_mat =S_mat_gbvs_averaged, print_log = False)\n"
   ]
  },
  {
   "cell_type": "code",
   "execution_count": 171,
   "id": "e643e607-d6c8-4ad9-a0b8-52b0e94d67a9",
   "metadata": {},
   "outputs": [],
   "source": [
    "corr_dfs_gbvs = {} \n",
    "\n",
    "corr_dfs_gbvs['viz'] = corr_df_viz_gbvs\n",
    "corr_dfs_gbvs['faces'] = corr_df_faces_gbvs\n",
    "corr_dfs_gbvs['words'] = corr_df_words_gbvs\n",
    "corr_dfs_gbvs['places']= corr_df_places_gbvs\n",
    "corr_dfs_gbvs['bodies']= corr_df_bodies_gbvs\n",
    "corr_dfs_gbvs['list_a']= corr_df_listA_gbvs\n",
    "corr_dfs_gbvs['list_b']= corr_df_listB_gbvs\n",
    "\n",
    "pickle.dump(corr_dfs_gbvs, open(f\"{DATA_PATH}/corr_dictionaries/corr_dfs_gbvs.pkl\", \"wb\"))"
   ]
  },
  {
   "cell_type": "code",
   "execution_count": 172,
   "id": "dded4dd7-76a6-432a-a462-e88c4728afeb",
   "metadata": {},
   "outputs": [],
   "source": [
    "def plot_mean_and_ci(df, title, hue_order = None,  palette = \"tab10\" ):\n",
    "\n",
    "    # Use the `hue` parameter to separate data by 'type'\n",
    "    plt.figure(figsize=(20, 8)) \n",
    "    sns.barplot(data=df, x='ROI', y='corr_coeff', hue='type', ci=95, hue_order = hue_order, palette = palette)\n",
    "\n",
    "    # Customize the plot labels and title\n",
    "    plt.xlabel('ROI')\n",
    "    plt.ylabel('Correlation coefficient')\n",
    "    plt.title(title)\n",
    "    file_name = title.replace(\" \",\"_\")\n",
    "    SAVE_PATH = f\"/gpfs01/bartels/user/hbhatnagar/nsd-static-saliency/results/{file_name}\"\n",
    "    plt.savefig(f\"{SAVE_PATH}.svg\")\n",
    "    plt.legend( title='Model', ncol = 2)"
   ]
  },
  {
   "cell_type": "code",
   "execution_count": 173,
   "id": "e9888cd8-cb89-4eae-9fa0-4c5db567311e",
   "metadata": {},
   "outputs": [
    {
     "data": {
      "text/plain": [
       "<Figure size 2000x800 with 0 Axes>"
      ]
     },
     "metadata": {},
     "output_type": "display_data"
    },
    {
     "data": {
      "image/png": "[encoded data removed]",
      "text/plain": [
       "<Figure size 2000x800 with 1 Axes>"
      ]
     },
     "metadata": {},
     "output_type": "display_data"
    }
   ],
   "source": [
    "plt.figure(figsize=(20, 8))\n",
    "\n",
    "plot_mean_and_ci(df = concat_df_with_type(\n",
    "                          df_list = [corr_df_viz_stage4,\n",
    "                                     corr_df_viz, corr_df_viz_itti, corr_df_viz_gbvs, corr_df_viz_icf,\n",
    "                                     corr_df_viz_dg2,corr_df_viz_dg1, corr_df_viz_edges, corr_df_viz_saturation, corr_df_viz_luminance],\n",
    "                        type_list = [\"ResNet Stage 4\",\n",
    "                                    \"DeepGaze IIE\", \"Itti & Koch\" ,\"GBVS\",\"ICF\",\n",
    "                                     \"DeepGaze II\",\"DeepGaze I\", \"Edges\", \"Saturation\", \"Luminance\", \"DeepGaze 2E untrained\"]), \n",
    "                         hue_order = ['Luminance', 'Saturation', 'Edges', 'Itti & Koch', 'GBVS', 'ICF', 'DeepGaze I', 'DeepGaze II', 'DeepGaze IIE',\n",
    "                                      \"ResNet Stage 4\",\"DeepGaze 2E untrained\"],\n",
    "                            title = \"Correlation for Visual ROIs\",\n",
    "                 \n",
    "                            palette = \"tab20\")"
   ]
  },
  {
   "cell_type": "code",
   "execution_count": 174,
   "id": "df567688-2867-4952-a4a1-5ffae31332cc",
   "metadata": {},
   "outputs": [
    {
     "data": {
      "text/plain": [
       "<Figure size 2000x800 with 0 Axes>"
      ]
     },
     "metadata": {},
     "output_type": "display_data"
    },
    {
     "data": {
      "image/png": "[encoded data removed]",
      "text/plain": [
       "<Figure size 2000x800 with 1 Axes>"
      ]
     },
     "metadata": {},
     "output_type": "display_data"
    }
   ],
   "source": [
    "plt.figure(figsize=(20, 8))\n",
    "\n",
    "plot_mean_and_ci(df = concat_df_with_type(\n",
    "                          df_list = [corr_df_faces_stage4,\n",
    "                                     corr_df_faces, corr_df_faces_itti, corr_df_faces_gbvs, corr_df_faces_icf, \n",
    "                                     corr_df_faces_dg2, corr_df_faces_dg1, corr_df_faces_edges, corr_df_faces_saturation, corr_df_faces_luminance],\n",
    "                         type_list = [\"ResNet Stage 4\",\n",
    "                                    \"DeepGaze IIE\", \"Itti & Koch\" ,\"GBVS\",\"ICF\",\n",
    "                                     \"DeepGaze II\",\"DeepGaze I\", \"Edges\", \"Saturation\", \"Luminance\"]), \n",
    "                         hue_order = ['Luminance', 'Saturation', 'Edges', 'Itti & Koch', 'GBVS', 'ICF', 'DeepGaze I', 'DeepGaze II', 'DeepGaze IIE',\n",
    "                                      \"ResNet Stage 4\"],\n",
    "                             title = \"Correlation for floc-faces ROIs\",\n",
    "                            palette = \"tab20\")"
   ]
  },
  {
   "cell_type": "code",
   "execution_count": 175,
   "id": "319d6945-1ef8-4b9b-8ddc-62bdb08300e5",
   "metadata": {},
   "outputs": [
    {
     "data": {
      "text/plain": [
       "<Figure size 2000x800 with 0 Axes>"
      ]
     },
     "metadata": {},
     "output_type": "display_data"
    },
    {
     "data": {
      "image/png": "[encoded data removed]",
      "text/plain": [
       "<Figure size 2000x800 with 1 Axes>"
      ]
     },
     "metadata": {},
     "output_type": "display_data"
    }
   ],
   "source": [
    "plt.figure(figsize=(20, 8))\n",
    "\n",
    "plot_mean_and_ci(df = concat_df_with_type(\n",
    "                          df_list = [corr_df_bodies_stage4,\n",
    "                                     corr_df_bodies, corr_df_bodies_itti, corr_df_bodies_gbvs, corr_df_bodies_icf, \n",
    "                                     corr_df_bodies_dg2, corr_df_bodies_dg1 , corr_df_bodies_edges, corr_df_bodies_saturation, corr_df_bodies_luminance],\n",
    "                        type_list = [\"ResNet Stage 4\",\n",
    "                                    \"DeepGaze IIE\", \"Itti & Koch\" ,\"GBVS\",\"ICF\",\n",
    "                                     \"DeepGaze II\",\"DeepGaze I\", \"Edges\", \"Saturation\", \"Luminance\"]), \n",
    "                         hue_order = ['Luminance', 'Saturation', 'Edges', 'Itti & Koch', 'GBVS', 'ICF', 'DeepGaze I', 'DeepGaze II', 'DeepGaze IIE',\n",
    "                                      \"ResNet Stage 4\"],\n",
    "                     \n",
    "                            title = \"Correlation for floc-bodies ROIs\",\n",
    "                            palette = \"tab20\")"
   ]
  },
  {
   "cell_type": "code",
   "execution_count": 176,
   "id": "bb6ff937-dac8-4fb9-996c-18a972b3ef97",
   "metadata": {},
   "outputs": [
    {
     "data": {
      "text/plain": [
       "<Figure size 2000x800 with 0 Axes>"
      ]
     },
     "metadata": {},
     "output_type": "display_data"
    },
    {
     "data": {
      "image/png": "[encoded data removed]",
      "text/plain": [
       "<Figure size 2000x800 with 1 Axes>"
      ]
     },
     "metadata": {},
     "output_type": "display_data"
    }
   ],
   "source": [
    "plt.figure(figsize=(20, 8))\n",
    "\n",
    "plot_mean_and_ci(df = concat_df_with_type(\n",
    "                          df_list = [corr_df_places_stage4,\n",
    "                                     corr_df_places, corr_df_places_itti, corr_df_places_gbvs, corr_df_places_icf, \n",
    "                                     corr_df_places_dg2, corr_df_places_dg1, corr_df_places_edges, corr_df_places_saturation, corr_df_places_luminance],\n",
    "                         type_list = [\"ResNet Stage 4\",\n",
    "                                    \"DeepGaze IIE\", \"Itti & Koch\" ,\"GBVS\",\"ICF\",\n",
    "                                     \"DeepGaze II\",\"DeepGaze I\", \"Edges\", \"Saturation\", \"Luminance\"]), \n",
    "                         hue_order = ['Luminance', 'Saturation', 'Edges', 'Itti & Koch', 'GBVS', 'ICF', 'DeepGaze I', 'DeepGaze II', 'DeepGaze IIE',\n",
    "                                      \"ResNet Stage 4\"],                 \n",
    "                            title = \"Correlation for floc-places ROIs\",\n",
    "                            palette = \"tab20\")"
   ]
  },
  {
   "cell_type": "code",
   "execution_count": 177,
   "id": "0de0fc16-06b1-4a09-9393-318e247be90b",
   "metadata": {},
   "outputs": [
    {
     "data": {
      "text/plain": [
       "<Figure size 2000x800 with 0 Axes>"
      ]
     },
     "metadata": {},
     "output_type": "display_data"
    },
    {
     "data": {
      "image/png": "[encoded data removed]",
      "text/plain": [
       "<Figure size 2000x800 with 1 Axes>"
      ]
     },
     "metadata": {},
     "output_type": "display_data"
    }
   ],
   "source": [
    "plt.figure(figsize=(20, 8))\n",
    "\n",
    "plot_mean_and_ci(df = concat_df_with_type(\n",
    "                          df_list = [corr_df_words_stage4,\n",
    "                                     corr_df_words, corr_df_words_itti, corr_df_words_gbvs, corr_df_words_icf,\n",
    "                                     corr_df_words_dg2, corr_df_words_dg1,corr_df_words_edges, corr_df_words_saturation, corr_df_words_luminance],\n",
    "                        type_list = [\"ResNet Stage 4\",\n",
    "                                    \"DeepGaze IIE\", \"Itti & Koch\" ,\"GBVS\",\"ICF\",\n",
    "                                     \"DeepGaze II\",\"DeepGaze I\", \"Edges\", \"Saturation\", \"Luminance\"]), \n",
    "                         hue_order = ['Luminance', 'Saturation', 'Edges', 'Itti & Koch', 'GBVS', 'ICF', 'DeepGaze I', 'DeepGaze II', 'DeepGaze IIE',\n",
    "                                      \"ResNet Stage 4\"],                 \n",
    "                            title = \"Correlation for floc-words ROIs\",\n",
    "                            palette = \"tab20\")"
   ]
  },
  {
   "cell_type": "code",
   "execution_count": 178,
   "id": "a73dc335-0b4c-4454-aba6-d9daaff4cae2",
   "metadata": {},
   "outputs": [
    {
     "data": {
      "text/plain": [
       "<Figure size 3000x1000 with 0 Axes>"
      ]
     },
     "metadata": {},
     "output_type": "display_data"
    },
    {
     "data": {
      "image/png": "[encoded data removed]",
      "text/plain": [
       "<Figure size 2000x800 with 1 Axes>"
      ]
     },
     "metadata": {},
     "output_type": "display_data"
    }
   ],
   "source": [
    "plt.figure(figsize=(30, 10))\n",
    "\n",
    "plot_mean_and_ci(df = concat_df_with_type(\n",
    "                          df_list = [corr_df_listA_stage4,\n",
    "                                     corr_df_list_a, corr_df_listA_itti, corr_df_listA_gbvs, corr_df_listA_icf,\n",
    "                                     corr_df_listA_dg2, corr_df_listA_dg1, corr_df_listA_edges, corr_df_listA_saturation, corr_df_listA_luminance],\n",
    "                         type_list = [\"ResNet Stage 4\",\n",
    "                                    \"DeepGaze IIE\", \"Itti & Koch\" ,\"GBVS\",\"ICF\",\n",
    "                                     \"DeepGaze II\",\"DeepGaze I\", \"Edges\", \"Saturation\", \"Luminance\"]), \n",
    "                         hue_order = ['Luminance', 'Saturation', 'Edges', 'Itti & Koch', 'GBVS', 'ICF', 'DeepGaze I', 'DeepGaze II', 'DeepGaze IIE',\n",
    "                                    \"ResNet Stage 4\"],         \n",
    "                            title = \"Correlation\",\n",
    "                            palette = \"tab20\")"
   ]
  },
  {
   "cell_type": "code",
   "execution_count": 179,
   "id": "62574c0b-9e23-4d8b-bf77-3c18cb3e1863",
   "metadata": {},
   "outputs": [
    {
     "data": {
      "text/plain": [
       "<Figure size 2000x800 with 0 Axes>"
      ]
     },
     "metadata": {},
     "output_type": "display_data"
    },
    {
     "data": {
      "image/png": "[encoded data removed]",
      "text/plain": [
       "<Figure size 2000x800 with 1 Axes>"
      ]
     },
     "metadata": {},
     "output_type": "display_data"
    }
   ],
   "source": [
    "plt.figure(figsize=(20, 8))\n",
    "\n",
    "plot_mean_and_ci(df = concat_df_with_type(\n",
    "                          df_list = [corr_df_listB_stage4,\n",
    "                                     corr_df_list_b, corr_df_listB_itti, corr_df_listB_gbvs, corr_df_listB_icf,\n",
    "                                     corr_df_listB_dg2, corr_df_listB_dg1, corr_df_listB_edges, corr_df_listB_saturation, corr_df_listB_luminance],\n",
    "                        type_list = [\"ResNet Stage 4\",\n",
    "                                    \"DeepGaze IIE\", \"Itti & Koch\" ,\"GBVS\",\"ICF\",\n",
    "                                     \"DeepGaze II\",\"DeepGaze I\", \"Edges\", \"Saturation\", \"Luminance\"]), \n",
    "                         hue_order = ['Luminance', 'Saturation', 'Edges', 'Itti & Koch', 'GBVS', 'ICF', 'DeepGaze I', 'DeepGaze II', 'DeepGaze IIE',\n",
    "                                       \"ResNet Stage 4\"],         \n",
    "                            title = \"Correlation\",\n",
    "                            palette = \"tab20\")"
   ]
  },
  {
   "cell_type": "code",
   "execution_count": null,
   "id": "3885b2f7-249f-4407-a199-a346e31b184e",
   "metadata": {},
   "outputs": [],
   "source": []
  }
 ],
 "metadata": {
  "kernelspec": {
   "display_name": "Python 3 (ipykernel)",
   "language": "python",
   "name": "python3"
  },
  "language_info": {
   "codemirror_mode": {
    "name": "ipython",
    "version": 3
   },
   "file_extension": ".py",
   "mimetype": "text/x-python",
   "name": "python",
   "nbconvert_exporter": "python",
   "pygments_lexer": "ipython3",
   "version": "3.8.13"
  }
 },
 "nbformat": 4,
 "nbformat_minor": 5
}
