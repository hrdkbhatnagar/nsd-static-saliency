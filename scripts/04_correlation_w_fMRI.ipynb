{
 "cells": [
  {
   "cell_type": "code",
   "execution_count": 9,
   "id": "58124a78-2b60-4e15-abec-76b209293ef1",
   "metadata": {},
   "outputs": [],
   "source": [
    "import numpy as np\n",
    "import torch\n",
    "\n",
    "import matplotlib.pyplot as plt\n",
    "import math \n",
    "\n",
    "import os\n",
    "import sys\n",
    "import struct\n",
    "import time\n",
    "import pandas as pd\n",
    "\n",
    "import pandas as pd\n",
    "import seaborn as sns\n",
    "\n",
    "%matplotlib inline"
   ]
  },
  {
   "cell_type": "code",
   "execution_count": 10,
   "id": "1159cd8a-f6fb-4afa-aa1c-0c8b2ff90b70",
   "metadata": {},
   "outputs": [],
   "source": [
    "COCO_ROOT = '/gpfs01/bartels/user/hbhatnagar/coco/panoptic_annotations_trainval2017'\n",
    "NSD_ROOT  = \"/gpfs01/bartels/user/hbhatnagar/NSD_dataset/\"\n",
    "STIM_ROOT  = NSD_ROOT + \"nsddata_stimuli/stimuli/nsd/\"\n",
    "\n",
    "\n",
    "stim_file = STIM_ROOT + \"nsd_stimuli.hdf5\"\n",
    "exp_design_file = NSD_ROOT + \"nsddata/experiments/nsd/nsd_expdesign.mat\"\n",
    "nsd_stiminfo_file = '/gpfs01/bartels/user/hbhatnagar/NSD_dataset/nsddata/experiments/nsd/nsd_stim_info_merged.pkl'\n",
    "\n",
    "PRF_PATH = NSD_ROOT+'nsddata/ppdata/' \n",
    "DATA_PATH = \"/gpfs01/bartels/user/hbhatnagar/nsd-static-saliency/data\"\n",
    "\n",
    "DEVICE = 'cpu'"
   ]
  },
  {
   "cell_type": "code",
   "execution_count": 11,
   "id": "068ff3f2-9d78-4051-9f6f-744a69518cbe",
   "metadata": {},
   "outputs": [],
   "source": [
    "K_subj1_v1 = np.load(DATA_PATH+\"/K_mat_subj1_v1.npy.npz\")"
   ]
  },
  {
   "cell_type": "code",
   "execution_count": 18,
   "id": "18cbf271-e4dc-473d-b290-0f025eea7bcc",
   "metadata": {},
   "outputs": [],
   "source": [
    "K_subj1_v1 = K_subj1_v1['arr_0']"
   ]
  },
  {
   "cell_type": "code",
   "execution_count": 21,
   "id": "3ba87951-311b-42bf-9f41-1a53b692569b",
   "metadata": {},
   "outputs": [
    {
     "data": {
      "text/plain": [
       "array([[0.00000000e+000, 0.00000000e+000, 0.00000000e+000, ...,\n",
       "        0.00000000e+000, 0.00000000e+000, 0.00000000e+000],\n",
       "       [1.17572741e-246, 2.08949827e-245, 3.67193777e-244, ...,\n",
       "        1.47088672e-164, 3.01390762e-165, 6.10658726e-166],\n",
       "       [0.00000000e+000, 0.00000000e+000, 0.00000000e+000, ...,\n",
       "        0.00000000e+000, 0.00000000e+000, 0.00000000e+000],\n",
       "       ...,\n",
       "       [0.00000000e+000, 0.00000000e+000, 0.00000000e+000, ...,\n",
       "        0.00000000e+000, 0.00000000e+000, 0.00000000e+000],\n",
       "       [1.36404084e-055, 2.49674183e-055, 4.55613192e-055, ...,\n",
       "        2.42853073e-057, 1.32560917e-057, 7.21379477e-058],\n",
       "       [3.30490439e-301, 1.01300653e-299, 3.05319996e-298, ...,\n",
       "        1.34969247e-284, 5.18182207e-286, 1.95622960e-287]])"
      ]
     },
     "execution_count": 21,
     "metadata": {},
     "output_type": "execute_result"
    }
   ],
   "source": [
    "K_subj1_v1\n"
   ]
  },
  {
   "cell_type": "code",
   "execution_count": null,
   "id": "e2f35772-ff1c-4477-b55d-87c47dde4fbb",
   "metadata": {},
   "outputs": [],
   "source": []
  }
 ],
 "metadata": {
  "kernelspec": {
   "display_name": "Python 3 (ipykernel)",
   "language": "python",
   "name": "python3"
  },
  "language_info": {
   "codemirror_mode": {
    "name": "ipython",
    "version": 3
   },
   "file_extension": ".py",
   "mimetype": "text/x-python",
   "name": "python",
   "nbconvert_exporter": "python",
   "pygments_lexer": "ipython3",
   "version": "3.8.13"
  }
 },
 "nbformat": 4,
 "nbformat_minor": 5
}
